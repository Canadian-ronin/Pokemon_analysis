{
 "cells": [
  {
   "cell_type": "code",
   "execution_count": 29,
   "metadata": {},
   "outputs": [],
   "source": [
    "import pandas"
   ]
  },
  {
   "cell_type": "code",
   "execution_count": 30,
   "metadata": {},
   "outputs": [],
   "source": [
    "x=pandas.read_csv(\"pokemon_data.csv\")"
   ]
  },
  {
   "cell_type": "code",
   "execution_count": 31,
   "metadata": {},
   "outputs": [
    {
     "data": {
      "text/html": [
       "<div>\n",
       "<style scoped>\n",
       "    .dataframe tbody tr th:only-of-type {\n",
       "        vertical-align: middle;\n",
       "    }\n",
       "\n",
       "    .dataframe tbody tr th {\n",
       "        vertical-align: top;\n",
       "    }\n",
       "\n",
       "    .dataframe thead th {\n",
       "        text-align: right;\n",
       "    }\n",
       "</style>\n",
       "<table border=\"1\" class=\"dataframe\">\n",
       "  <thead>\n",
       "    <tr style=\"text-align: right;\">\n",
       "      <th></th>\n",
       "      <th>Unnamed: 0</th>\n",
       "      <th>pokedex_nr</th>\n",
       "      <th>en_name</th>\n",
       "      <th>type_1</th>\n",
       "      <th>type_2</th>\n",
       "      <th>link</th>\n",
       "      <th>type_list</th>\n",
       "      <th>de_name</th>\n",
       "      <th>type_1_german</th>\n",
       "      <th>type_2_german</th>\n",
       "      <th>type_list_ger</th>\n",
       "      <th>fr_name</th>\n",
       "      <th>jp_name</th>\n",
       "      <th>kor_name</th>\n",
       "      <th>chi_name</th>\n",
       "    </tr>\n",
       "  </thead>\n",
       "  <tbody>\n",
       "    <tr>\n",
       "      <th>0</th>\n",
       "      <td>0</td>\n",
       "      <td>1</td>\n",
       "      <td>Bulbasaur</td>\n",
       "      <td>Grass</td>\n",
       "      <td>Poison</td>\n",
       "      <td>https://www.pokewiki.de/Bisasam</td>\n",
       "      <td>['Grass', 'Poison']</td>\n",
       "      <td>Bisasam</td>\n",
       "      <td>Pflanze</td>\n",
       "      <td>Gift</td>\n",
       "      <td>['Pflanze', 'Gift']</td>\n",
       "      <td>Bulbizarre</td>\n",
       "      <td>フシギダネ(Fushigidane)</td>\n",
       "      <td>이상해씨(Isanghaessi)</td>\n",
       "      <td>妙蛙種子 / 妙蛙种子(Miàowāzhǒngzǐ)</td>\n",
       "    </tr>\n",
       "    <tr>\n",
       "      <th>1</th>\n",
       "      <td>1</td>\n",
       "      <td>2</td>\n",
       "      <td>Ivysaur</td>\n",
       "      <td>Grass</td>\n",
       "      <td>Poison</td>\n",
       "      <td>https://www.pokewiki.de/Bisaknosp</td>\n",
       "      <td>['Grass', 'Poison']</td>\n",
       "      <td>Bisaknosp</td>\n",
       "      <td>Pflanze</td>\n",
       "      <td>Gift</td>\n",
       "      <td>['Pflanze', 'Gift']</td>\n",
       "      <td>Herbizarre</td>\n",
       "      <td>フシギソウ(Fushigisou)</td>\n",
       "      <td>이상해풀(Isanghaepul)</td>\n",
       "      <td>妙蛙草 / 妙蛙草(Miàowācǎo)</td>\n",
       "    </tr>\n",
       "    <tr>\n",
       "      <th>2</th>\n",
       "      <td>2</td>\n",
       "      <td>3</td>\n",
       "      <td>Venusaur</td>\n",
       "      <td>Grass</td>\n",
       "      <td>Poison</td>\n",
       "      <td>https://www.pokewiki.de/Bisaflor</td>\n",
       "      <td>['Grass', 'Poison']</td>\n",
       "      <td>Bisaflor</td>\n",
       "      <td>Pflanze</td>\n",
       "      <td>Gift</td>\n",
       "      <td>['Pflanze', 'Gift']</td>\n",
       "      <td>Florizarre</td>\n",
       "      <td>フシギバナ(Fushigibana)</td>\n",
       "      <td>이상해꽃(Isanghaekkot)</td>\n",
       "      <td>妙蛙花 / 妙蛙花(Miàowāhuā)</td>\n",
       "    </tr>\n",
       "    <tr>\n",
       "      <th>3</th>\n",
       "      <td>3</td>\n",
       "      <td>4</td>\n",
       "      <td>Charmander</td>\n",
       "      <td>Fire</td>\n",
       "      <td>NaN</td>\n",
       "      <td>https://www.pokewiki.de/Glumanda</td>\n",
       "      <td>['Fire']</td>\n",
       "      <td>Glumanda</td>\n",
       "      <td>Feuer</td>\n",
       "      <td>NaN</td>\n",
       "      <td>['Feuer']</td>\n",
       "      <td>Salamèche</td>\n",
       "      <td>ヒトカゲ(Hitokage)</td>\n",
       "      <td>파이리(Pairi)</td>\n",
       "      <td>小火龍 / 小火龙(Xiǎohuǒlóng)</td>\n",
       "    </tr>\n",
       "    <tr>\n",
       "      <th>4</th>\n",
       "      <td>4</td>\n",
       "      <td>5</td>\n",
       "      <td>Charmeleon</td>\n",
       "      <td>Fire</td>\n",
       "      <td>NaN</td>\n",
       "      <td>https://www.pokewiki.de/Glutexo</td>\n",
       "      <td>['Fire']</td>\n",
       "      <td>Glutexo</td>\n",
       "      <td>Feuer</td>\n",
       "      <td>NaN</td>\n",
       "      <td>['Feuer']</td>\n",
       "      <td>Reptincel</td>\n",
       "      <td>リザード(Lizardo)</td>\n",
       "      <td>리자드(Rijadeu)</td>\n",
       "      <td>火恐龍 / 火恐龙(Huǒkǒnglóng)</td>\n",
       "    </tr>\n",
       "  </tbody>\n",
       "</table>\n",
       "</div>"
      ],
      "text/plain": [
       "   Unnamed: 0  pokedex_nr     en_name type_1  type_2  \\\n",
       "0           0           1   Bulbasaur  Grass  Poison   \n",
       "1           1           2     Ivysaur  Grass  Poison   \n",
       "2           2           3    Venusaur  Grass  Poison   \n",
       "3           3           4  Charmander   Fire     NaN   \n",
       "4           4           5  Charmeleon   Fire     NaN   \n",
       "\n",
       "                                link            type_list    de_name  \\\n",
       "0    https://www.pokewiki.de/Bisasam  ['Grass', 'Poison']    Bisasam   \n",
       "1  https://www.pokewiki.de/Bisaknosp  ['Grass', 'Poison']  Bisaknosp   \n",
       "2   https://www.pokewiki.de/Bisaflor  ['Grass', 'Poison']   Bisaflor   \n",
       "3   https://www.pokewiki.de/Glumanda             ['Fire']   Glumanda   \n",
       "4    https://www.pokewiki.de/Glutexo             ['Fire']    Glutexo   \n",
       "\n",
       "  type_1_german type_2_german        type_list_ger     fr_name  \\\n",
       "0       Pflanze          Gift  ['Pflanze', 'Gift']  Bulbizarre   \n",
       "1       Pflanze          Gift  ['Pflanze', 'Gift']  Herbizarre   \n",
       "2       Pflanze          Gift  ['Pflanze', 'Gift']  Florizarre   \n",
       "3         Feuer           NaN            ['Feuer']   Salamèche   \n",
       "4         Feuer           NaN            ['Feuer']   Reptincel   \n",
       "\n",
       "              jp_name            kor_name                    chi_name  \n",
       "0  フシギダネ(Fushigidane)   이상해씨(Isanghaessi)  妙蛙種子 / 妙蛙种子(Miàowāzhǒngzǐ)  \n",
       "1   フシギソウ(Fushigisou)   이상해풀(Isanghaepul)        妙蛙草 / 妙蛙草(Miàowācǎo)  \n",
       "2  フシギバナ(Fushigibana)  이상해꽃(Isanghaekkot)        妙蛙花 / 妙蛙花(Miàowāhuā)  \n",
       "3      ヒトカゲ(Hitokage)          파이리(Pairi)      小火龍 / 小火龙(Xiǎohuǒlóng)  \n",
       "4       リザード(Lizardo)        리자드(Rijadeu)      火恐龍 / 火恐龙(Huǒkǒnglóng)  "
      ]
     },
     "execution_count": 31,
     "metadata": {},
     "output_type": "execute_result"
    }
   ],
   "source": [
    "x.head()"
   ]
  },
  {
   "cell_type": "code",
   "execution_count": 34,
   "metadata": {},
   "outputs": [
    {
     "data": {
      "text/plain": [
       "['Unnamed: 0',\n",
       " 'pokedex_nr',\n",
       " 'en_name',\n",
       " 'type_1',\n",
       " 'type_2',\n",
       " 'link',\n",
       " 'type_list',\n",
       " 'de_name',\n",
       " 'type_1_german',\n",
       " 'type_2_german',\n",
       " 'type_list_ger',\n",
       " 'fr_name',\n",
       " 'jp_name',\n",
       " 'kor_name',\n",
       " 'chi_name']"
      ]
     },
     "execution_count": 34,
     "metadata": {},
     "output_type": "execute_result"
    }
   ],
   "source": [
    "x.columns.values.tolist()"
   ]
  },
  {
   "cell_type": "code",
   "execution_count": 36,
   "metadata": {},
   "outputs": [
    {
     "name": "stderr",
     "output_type": "stream",
     "text": [
      "C:\\Users\\Eliza\\AppData\\Local\\Temp\\ipykernel_14320\\1320390783.py:1: DeprecationWarning: tostring() is deprecated. Use tobytes() instead.\n",
      "  x.columns.values.tostring()\n"
     ]
    },
    {
     "data": {
      "text/plain": [
       "b\"\\xf0\\x02'\\xea\\xf5\\x02\\x00\\x00\\xf0\\xe9.\\xea\\xf5\\x02\\x00\\x00p\\x9e-\\xea\\xf5\\x02\\x00\\x00\\xb0\\xff\\x90\\xd2\\xf5\\x02\\x00\\x00p\\xe10\\xea\\xf5\\x02\\x00\\x00p\\xeb0\\xea\\xf5\\x02\\x00\\x00\\xf0\\xe20\\xea\\xf5\\x02\\x00\\x00\\xf0\\xe00\\xea\\xf5\\x02\\x00\\x00pf1\\xea\\xf5\\x02\\x00\\x00\\xb0\\xed0\\xea\\xf5\\x02\\x00\\x000h1\\xea\\xf5\\x02\\x00\\x00pg1\\xea\\xf5\\x02\\x00\\x00\\xb0i1\\xea\\xf5\\x02\\x00\\x00po1\\xea\\xf5\\x02\\x00\\x00\\xb0\\xba2\\xea\\xf5\\x02\\x00\\x00\""
      ]
     },
     "execution_count": 36,
     "metadata": {},
     "output_type": "execute_result"
    }
   ],
   "source": []
  },
  {
   "cell_type": "code",
   "execution_count": 32,
   "metadata": {},
   "outputs": [
    {
     "name": "stdout",
     "output_type": "stream",
     "text": [
      "Welcome to my Python project! This project has many different options for you to run! Below are the current listed functions available to you! To use a feature, enter the option's number, and then, if necessary respond as prompted  \n",
      " \n",
      "     1. Sort pokemon by their primary type and output the amount of pokemon in said type \n",
      "      \n"
     ]
    }
   ],
   "source": [
    "print(\"Welcome to my Python project! This project has many different options for you to run! Below are the current listed functions available to you! To use a feature, enter the option's number, and then, if necessary respond as prompted  \\n \\n     1. Sort pokemon by their primary type and output the amount of pokemon in said type \\n      \")"
   ]
  }
 ],
 "metadata": {
  "interpreter": {
   "hash": "2db63ff5e3ceeb5e0ca7aa6a662af4f22e44790aaeaa372ae69e77c14b5da436"
  },
  "kernelspec": {
   "display_name": "Python 3.9.10 64-bit (windows store)",
   "language": "python",
   "name": "python3"
  },
  "language_info": {
   "codemirror_mode": {
    "name": "ipython",
    "version": 3
   },
   "file_extension": ".py",
   "mimetype": "text/x-python",
   "name": "python",
   "nbconvert_exporter": "python",
   "pygments_lexer": "ipython3",
   "version": "3.9.10"
  },
  "orig_nbformat": 4
 },
 "nbformat": 4,
 "nbformat_minor": 2
}
