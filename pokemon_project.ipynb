{
 "cells": [
  {
   "cell_type": "code",
   "execution_count": 2,
   "metadata": {},
   "outputs": [],
   "source": [
    "import pandas"
   ]
  },
  {
   "cell_type": "markdown",
   "metadata": {},
   "source": [
    "Welcome to my Python project! This project has a few different options for you to run! Below are the current listed functions available to you! To use a feature, enter the option's number, and then, if necessary respond as prompted!\n",
    "1. Sort pokemon by their primary type and output the amount of pokemon in said type\n",
    "2. "
   ]
  },
  {
   "cell_type": "code",
   "execution_count": 3,
   "metadata": {},
   "outputs": [
    {
     "data": {
      "text/html": [
       "<div>\n",
       "<style scoped>\n",
       "    .dataframe tbody tr th:only-of-type {\n",
       "        vertical-align: middle;\n",
       "    }\n",
       "\n",
       "    .dataframe tbody tr th {\n",
       "        vertical-align: top;\n",
       "    }\n",
       "\n",
       "    .dataframe thead th {\n",
       "        text-align: right;\n",
       "    }\n",
       "</style>\n",
       "<table border=\"1\" class=\"dataframe\">\n",
       "  <thead>\n",
       "    <tr style=\"text-align: right;\">\n",
       "      <th></th>\n",
       "      <th>Unnamed: 0</th>\n",
       "      <th>pokedex_nr</th>\n",
       "      <th>en_name</th>\n",
       "      <th>type_1</th>\n",
       "      <th>type_2</th>\n",
       "      <th>link</th>\n",
       "      <th>type_list</th>\n",
       "      <th>de_name</th>\n",
       "      <th>type_1_german</th>\n",
       "      <th>type_2_german</th>\n",
       "      <th>type_list_ger</th>\n",
       "      <th>fr_name</th>\n",
       "      <th>jp_name</th>\n",
       "      <th>kor_name</th>\n",
       "      <th>chi_name</th>\n",
       "    </tr>\n",
       "  </thead>\n",
       "  <tbody>\n",
       "    <tr>\n",
       "      <th>0</th>\n",
       "      <td>0</td>\n",
       "      <td>1</td>\n",
       "      <td>Bulbasaur</td>\n",
       "      <td>Grass</td>\n",
       "      <td>Poison</td>\n",
       "      <td>https://www.pokewiki.de/Bisasam</td>\n",
       "      <td>['Grass', 'Poison']</td>\n",
       "      <td>Bisasam</td>\n",
       "      <td>Pflanze</td>\n",
       "      <td>Gift</td>\n",
       "      <td>['Pflanze', 'Gift']</td>\n",
       "      <td>Bulbizarre</td>\n",
       "      <td>フシギダネ(Fushigidane)</td>\n",
       "      <td>이상해씨(Isanghaessi)</td>\n",
       "      <td>妙蛙種子 / 妙蛙种子(Miàowāzhǒngzǐ)</td>\n",
       "    </tr>\n",
       "    <tr>\n",
       "      <th>1</th>\n",
       "      <td>1</td>\n",
       "      <td>2</td>\n",
       "      <td>Ivysaur</td>\n",
       "      <td>Grass</td>\n",
       "      <td>Poison</td>\n",
       "      <td>https://www.pokewiki.de/Bisaknosp</td>\n",
       "      <td>['Grass', 'Poison']</td>\n",
       "      <td>Bisaknosp</td>\n",
       "      <td>Pflanze</td>\n",
       "      <td>Gift</td>\n",
       "      <td>['Pflanze', 'Gift']</td>\n",
       "      <td>Herbizarre</td>\n",
       "      <td>フシギソウ(Fushigisou)</td>\n",
       "      <td>이상해풀(Isanghaepul)</td>\n",
       "      <td>妙蛙草 / 妙蛙草(Miàowācǎo)</td>\n",
       "    </tr>\n",
       "    <tr>\n",
       "      <th>2</th>\n",
       "      <td>2</td>\n",
       "      <td>3</td>\n",
       "      <td>Venusaur</td>\n",
       "      <td>Grass</td>\n",
       "      <td>Poison</td>\n",
       "      <td>https://www.pokewiki.de/Bisaflor</td>\n",
       "      <td>['Grass', 'Poison']</td>\n",
       "      <td>Bisaflor</td>\n",
       "      <td>Pflanze</td>\n",
       "      <td>Gift</td>\n",
       "      <td>['Pflanze', 'Gift']</td>\n",
       "      <td>Florizarre</td>\n",
       "      <td>フシギバナ(Fushigibana)</td>\n",
       "      <td>이상해꽃(Isanghaekkot)</td>\n",
       "      <td>妙蛙花 / 妙蛙花(Miàowāhuā)</td>\n",
       "    </tr>\n",
       "    <tr>\n",
       "      <th>3</th>\n",
       "      <td>3</td>\n",
       "      <td>4</td>\n",
       "      <td>Charmander</td>\n",
       "      <td>Fire</td>\n",
       "      <td>NaN</td>\n",
       "      <td>https://www.pokewiki.de/Glumanda</td>\n",
       "      <td>['Fire']</td>\n",
       "      <td>Glumanda</td>\n",
       "      <td>Feuer</td>\n",
       "      <td>NaN</td>\n",
       "      <td>['Feuer']</td>\n",
       "      <td>Salamèche</td>\n",
       "      <td>ヒトカゲ(Hitokage)</td>\n",
       "      <td>파이리(Pairi)</td>\n",
       "      <td>小火龍 / 小火龙(Xiǎohuǒlóng)</td>\n",
       "    </tr>\n",
       "    <tr>\n",
       "      <th>4</th>\n",
       "      <td>4</td>\n",
       "      <td>5</td>\n",
       "      <td>Charmeleon</td>\n",
       "      <td>Fire</td>\n",
       "      <td>NaN</td>\n",
       "      <td>https://www.pokewiki.de/Glutexo</td>\n",
       "      <td>['Fire']</td>\n",
       "      <td>Glutexo</td>\n",
       "      <td>Feuer</td>\n",
       "      <td>NaN</td>\n",
       "      <td>['Feuer']</td>\n",
       "      <td>Reptincel</td>\n",
       "      <td>リザード(Lizardo)</td>\n",
       "      <td>리자드(Rijadeu)</td>\n",
       "      <td>火恐龍 / 火恐龙(Huǒkǒnglóng)</td>\n",
       "    </tr>\n",
       "  </tbody>\n",
       "</table>\n",
       "</div>"
      ],
      "text/plain": [
       "   Unnamed: 0  pokedex_nr     en_name type_1  type_2  \\\n",
       "0           0           1   Bulbasaur  Grass  Poison   \n",
       "1           1           2     Ivysaur  Grass  Poison   \n",
       "2           2           3    Venusaur  Grass  Poison   \n",
       "3           3           4  Charmander   Fire     NaN   \n",
       "4           4           5  Charmeleon   Fire     NaN   \n",
       "\n",
       "                                link            type_list    de_name  \\\n",
       "0    https://www.pokewiki.de/Bisasam  ['Grass', 'Poison']    Bisasam   \n",
       "1  https://www.pokewiki.de/Bisaknosp  ['Grass', 'Poison']  Bisaknosp   \n",
       "2   https://www.pokewiki.de/Bisaflor  ['Grass', 'Poison']   Bisaflor   \n",
       "3   https://www.pokewiki.de/Glumanda             ['Fire']   Glumanda   \n",
       "4    https://www.pokewiki.de/Glutexo             ['Fire']    Glutexo   \n",
       "\n",
       "  type_1_german type_2_german        type_list_ger     fr_name  \\\n",
       "0       Pflanze          Gift  ['Pflanze', 'Gift']  Bulbizarre   \n",
       "1       Pflanze          Gift  ['Pflanze', 'Gift']  Herbizarre   \n",
       "2       Pflanze          Gift  ['Pflanze', 'Gift']  Florizarre   \n",
       "3         Feuer           NaN            ['Feuer']   Salamèche   \n",
       "4         Feuer           NaN            ['Feuer']   Reptincel   \n",
       "\n",
       "              jp_name            kor_name                    chi_name  \n",
       "0  フシギダネ(Fushigidane)   이상해씨(Isanghaessi)  妙蛙種子 / 妙蛙种子(Miàowāzhǒngzǐ)  \n",
       "1   フシギソウ(Fushigisou)   이상해풀(Isanghaepul)        妙蛙草 / 妙蛙草(Miàowācǎo)  \n",
       "2  フシギバナ(Fushigibana)  이상해꽃(Isanghaekkot)        妙蛙花 / 妙蛙花(Miàowāhuā)  \n",
       "3      ヒトカゲ(Hitokage)          파이리(Pairi)      小火龍 / 小火龙(Xiǎohuǒlóng)  \n",
       "4       リザード(Lizardo)        리자드(Rijadeu)      火恐龍 / 火恐龙(Huǒkǒnglóng)  "
      ]
     },
     "execution_count": 3,
     "metadata": {},
     "output_type": "execute_result"
    }
   ],
   "source": [
    "pokedata=pandas.read_csv(\"pokemon_data.csv\")\n",
    "pokedata.head()"
   ]
  },
  {
   "cell_type": "code",
   "execution_count": 4,
   "metadata": {},
   "outputs": [
    {
     "data": {
      "text/html": [
       "<div>\n",
       "<style scoped>\n",
       "    .dataframe tbody tr th:only-of-type {\n",
       "        vertical-align: middle;\n",
       "    }\n",
       "\n",
       "    .dataframe tbody tr th {\n",
       "        vertical-align: top;\n",
       "    }\n",
       "\n",
       "    .dataframe thead th {\n",
       "        text-align: right;\n",
       "    }\n",
       "</style>\n",
       "<table border=\"1\" class=\"dataframe\">\n",
       "  <thead>\n",
       "    <tr style=\"text-align: right;\">\n",
       "      <th></th>\n",
       "      <th>pokedex_nr</th>\n",
       "      <th>en_name</th>\n",
       "      <th>type_1</th>\n",
       "      <th>type_2</th>\n",
       "      <th>link</th>\n",
       "    </tr>\n",
       "  </thead>\n",
       "  <tbody>\n",
       "    <tr>\n",
       "      <th>0</th>\n",
       "      <td>1</td>\n",
       "      <td>Bulbasaur</td>\n",
       "      <td>Grass</td>\n",
       "      <td>Poison</td>\n",
       "      <td>https://www.pokewiki.de/Bisasam</td>\n",
       "    </tr>\n",
       "    <tr>\n",
       "      <th>1</th>\n",
       "      <td>2</td>\n",
       "      <td>Ivysaur</td>\n",
       "      <td>Grass</td>\n",
       "      <td>Poison</td>\n",
       "      <td>https://www.pokewiki.de/Bisaknosp</td>\n",
       "    </tr>\n",
       "    <tr>\n",
       "      <th>2</th>\n",
       "      <td>3</td>\n",
       "      <td>Venusaur</td>\n",
       "      <td>Grass</td>\n",
       "      <td>Poison</td>\n",
       "      <td>https://www.pokewiki.de/Bisaflor</td>\n",
       "    </tr>\n",
       "    <tr>\n",
       "      <th>3</th>\n",
       "      <td>4</td>\n",
       "      <td>Charmander</td>\n",
       "      <td>Fire</td>\n",
       "      <td>NaN</td>\n",
       "      <td>https://www.pokewiki.de/Glumanda</td>\n",
       "    </tr>\n",
       "    <tr>\n",
       "      <th>4</th>\n",
       "      <td>5</td>\n",
       "      <td>Charmeleon</td>\n",
       "      <td>Fire</td>\n",
       "      <td>NaN</td>\n",
       "      <td>https://www.pokewiki.de/Glutexo</td>\n",
       "    </tr>\n",
       "    <tr>\n",
       "      <th>...</th>\n",
       "      <td>...</td>\n",
       "      <td>...</td>\n",
       "      <td>...</td>\n",
       "      <td>...</td>\n",
       "      <td>...</td>\n",
       "    </tr>\n",
       "    <tr>\n",
       "      <th>899</th>\n",
       "      <td>900</td>\n",
       "      <td>Kleavor</td>\n",
       "      <td>Bug</td>\n",
       "      <td>Rock</td>\n",
       "      <td>https://www.pokewiki.de/Axantor</td>\n",
       "    </tr>\n",
       "    <tr>\n",
       "      <th>900</th>\n",
       "      <td>901</td>\n",
       "      <td>Ursaluna</td>\n",
       "      <td>Ground</td>\n",
       "      <td>Normal</td>\n",
       "      <td>https://www.pokewiki.de/Ursaluna</td>\n",
       "    </tr>\n",
       "    <tr>\n",
       "      <th>901</th>\n",
       "      <td>902</td>\n",
       "      <td>Basculegion</td>\n",
       "      <td>Water</td>\n",
       "      <td>Ghost</td>\n",
       "      <td>https://www.pokewiki.de/Salmagnis</td>\n",
       "    </tr>\n",
       "    <tr>\n",
       "      <th>902</th>\n",
       "      <td>903</td>\n",
       "      <td>Sneasler</td>\n",
       "      <td>Fight</td>\n",
       "      <td>Poison</td>\n",
       "      <td>https://www.pokewiki.de/Snieboss</td>\n",
       "    </tr>\n",
       "    <tr>\n",
       "      <th>903</th>\n",
       "      <td>904</td>\n",
       "      <td>Overqwil</td>\n",
       "      <td>Dark</td>\n",
       "      <td>Poison</td>\n",
       "      <td>https://www.pokewiki.de/Myriador</td>\n",
       "    </tr>\n",
       "  </tbody>\n",
       "</table>\n",
       "<p>904 rows × 5 columns</p>\n",
       "</div>"
      ],
      "text/plain": [
       "     pokedex_nr      en_name  type_1  type_2  \\\n",
       "0             1    Bulbasaur   Grass  Poison   \n",
       "1             2      Ivysaur   Grass  Poison   \n",
       "2             3     Venusaur   Grass  Poison   \n",
       "3             4   Charmander    Fire     NaN   \n",
       "4             5   Charmeleon    Fire     NaN   \n",
       "..          ...          ...     ...     ...   \n",
       "899         900      Kleavor     Bug    Rock   \n",
       "900         901     Ursaluna  Ground  Normal   \n",
       "901         902  Basculegion   Water   Ghost   \n",
       "902         903     Sneasler   Fight  Poison   \n",
       "903         904     Overqwil    Dark  Poison   \n",
       "\n",
       "                                  link  \n",
       "0      https://www.pokewiki.de/Bisasam  \n",
       "1    https://www.pokewiki.de/Bisaknosp  \n",
       "2     https://www.pokewiki.de/Bisaflor  \n",
       "3     https://www.pokewiki.de/Glumanda  \n",
       "4      https://www.pokewiki.de/Glutexo  \n",
       "..                                 ...  \n",
       "899    https://www.pokewiki.de/Axantor  \n",
       "900   https://www.pokewiki.de/Ursaluna  \n",
       "901  https://www.pokewiki.de/Salmagnis  \n",
       "902   https://www.pokewiki.de/Snieboss  \n",
       "903   https://www.pokewiki.de/Myriador  \n",
       "\n",
       "[904 rows x 5 columns]"
      ]
     },
     "execution_count": 4,
     "metadata": {},
     "output_type": "execute_result"
    }
   ],
   "source": [
    "filtered_pokedata = (pokedata.iloc[:, [1, 2, 3, 4, 5]])\n",
    "filtered_pokedata"
   ]
  },
  {
   "cell_type": "code",
   "execution_count": 5,
   "metadata": {},
   "outputs": [
    {
     "data": {
      "text/plain": [
       "['Unnamed: 0',\n",
       " 'pokedex_nr',\n",
       " 'en_name',\n",
       " 'type_1',\n",
       " 'type_2',\n",
       " 'link',\n",
       " 'type_list',\n",
       " 'de_name',\n",
       " 'type_1_german',\n",
       " 'type_2_german',\n",
       " 'type_list_ger',\n",
       " 'fr_name',\n",
       " 'jp_name',\n",
       " 'kor_name',\n",
       " 'chi_name']"
      ]
     },
     "execution_count": 5,
     "metadata": {},
     "output_type": "execute_result"
    }
   ],
   "source": [
    "pokedata.columns.values.tolist()"
   ]
  },
  {
   "cell_type": "code",
   "execution_count": 6,
   "metadata": {},
   "outputs": [
    {
     "data": {
      "text/plain": [
       "Water       124\n",
       "Normal      110\n",
       "Grass        86\n",
       "Bug          76\n",
       "Fire         58\n",
       "Psychic      58\n",
       "Rock         50\n",
       "Electric     49\n",
       "Dark         37\n",
       "Fight        37\n",
       "Ground       36\n",
       "Poison       35\n",
       "Ghost        31\n",
       "Dragon       31\n",
       "Steel        30\n",
       "Ice          28\n",
       "Fairy        21\n",
       "Flying        7\n",
       "Name: type_1, dtype: int64"
      ]
     },
     "execution_count": 6,
     "metadata": {},
     "output_type": "execute_result"
    }
   ],
   "source": [
    "type_1_dict = pokedata['type_1'].value_counts()\n",
    "type_1_dict"
   ]
  },
  {
   "cell_type": "code",
   "execution_count": 7,
   "metadata": {},
   "outputs": [
    {
     "data": {
      "text/plain": [
       "Flying      95\n",
       "Poison      36\n",
       "Fairy       33\n",
       "Psychic     33\n",
       "Ground      32\n",
       "Dragon      25\n",
       "Fight       25\n",
       "Steel       24\n",
       "Grass       21\n",
       "Ghost       21\n",
       "Dark        19\n",
       "Water       18\n",
       "Rock        16\n",
       "Fire        13\n",
       "Ice         13\n",
       "Bug          9\n",
       "Electric     8\n",
       "Normal       7\n",
       "Name: type_2, dtype: int64"
      ]
     },
     "execution_count": 7,
     "metadata": {},
     "output_type": "execute_result"
    }
   ],
   "source": [
    "type_2_dict = pokedata['type_2'].value_counts()\n",
    "type_2_dict"
   ]
  },
  {
   "cell_type": "code",
   "execution_count": 11,
   "metadata": {},
   "outputs": [
    {
     "data": {
      "text/plain": [
       "Bug          85\n",
       "Dark         56\n",
       "Dragon       56\n",
       "Electric     57\n",
       "Fairy        54\n",
       "Fight        62\n",
       "Fire         71\n",
       "Flying      102\n",
       "Ghost        52\n",
       "Grass       107\n",
       "Ground       68\n",
       "Ice          41\n",
       "Normal      117\n",
       "Poison       71\n",
       "Psychic      91\n",
       "Rock         66\n",
       "Steel        54\n",
       "Water       142\n",
       "dtype: int64"
      ]
     },
     "execution_count": 11,
     "metadata": {},
     "output_type": "execute_result"
    }
   ],
   "source": [
    "type_dict = type_1_dict + type_2_dict"
   ]
  },
  {
   "cell_type": "markdown",
   "metadata": {},
   "source": [
    "The cell below is to determine how many pokemon there are in a given type \n",
    "see if there is a good way to trim it down"
   ]
  },
  {
   "cell_type": "code",
   "execution_count": 8,
   "metadata": {},
   "outputs": [],
   "source": [
    "#Pulling type numbers from both primary and secondary types\n",
    "type_input = input()\n",
    "\n",
    "def type_numbering():\n",
    "     if type_input == \"water\":\n",
    "          print(\"The number of water type pokemon are \" + str(type_1_dict[\"Water\"] + type_2_dict[\"Water\"]))\n",
    "     elif type_input ==\"flying\":\n",
    "          print(\"The number of flying type pokemon are \" + str(type_1_dict[\"Flying\"] + type_2_dict[\"Flying\"]))\n",
    "     elif type_input == \"fire\":\n",
    "          print(\"The number of fire type pokemon are \" + str(type_1_dict[\"Fire\"] + type_2_dict[\"Fire\"]))\n",
    "     elif type_input == \"bug\":\n",
    "          print(\"The number of bug type pokemon are \" + str(type_1_dict[\"Bug\"] + type_2_dict[\"Bug\"]))\n",
    "     elif type_input == \"electric\":\n",
    "          print(\"The number of electric type pokemon are \" + str(type_1_dict[\"Electric\"] + type_2_dict[\"Bug\"]))\n",
    "     elif type_input == \"poison\":\n",
    "          print(\"The number of poison type pokemon are \" + str(type_1_dict[\"Poison\"] + type_2_dict[\"Poison\"]))\n",
    "     elif type_input == \"fairy\":\n",
    "          print(\"The number of fairy type pokemon are \" + str(type_1_dict[\"Fairy\"] + type_2_dict[\"Fairy\"]))\n",
    "     elif type_input == \"psychic\":\n",
    "          print(\"The number of psychic type pokemon are \" + str(type_1_dict[\"Psychic\"] + type_2_dict[\"Psychic\"]))\n",
    "     elif type_input == \"ground\":\n",
    "          print(\"The number of ground type  pokemon are \" + str(type_1_dict[\"Ground\"] + type_2_dict[\"Ground\"]))\n",
    "     elif type_input == \"dragon\":\n",
    "          print(\"The number of dragon type pokemon are \" + str(type_1_dict[\"Dragon\"] + type_2_dict[\"Dragon\"]))\n",
    "     elif type_input ==  \"fight\":\n",
    "          print(\"The number of fighting type pokemon are \" + str(type_1_dict[\"Fight\"] + type_2_dict[\"Fight\"]))\n",
    "     elif type_input == \"steel\":\n",
    "          print(\"The number of steel type pokemon are \" + str(type_1_dict[\"Steel\"] + type_2_dict[\"Steel\"]))\n",
    "     elif type_input == \"grass\":\n",
    "          print(\"The number of grass type pokemon are \" +str(type_1_dict[\"Grass\"] + type_2_dict[\"Grass\"]))\n",
    "     elif type_input == \"ghost\":\n",
    "          print(\"The number of ghost type pokemon are \" + str(type_1_dict[\"Ghost\"] + type_2_dict[\"Ghost\"]))\n",
    "     elif type_input == \"dark\":\n",
    "          print(\"The number of dark type pokemon are \" + str(type_1_dict[\"Dark\"] + type_2_dict[\"Dark\"]))\n",
    "     elif type_input == \"rock\":\n",
    "          print(\"The number of rock type pokemon are \" + str(type_1_dict[\"Rock\"] + type_2_dict[\"Rock\"]))\n",
    "     elif type_input == \"ice\":\n",
    "          print(\"The number of ice type pokemon are \" + str(type_1_dict[\"Ice\"] + type_2_dict[\"Ice\"]))\n",
    "     elif type_input == \"normal\":\n",
    "          print(\"The number of normal type pokemon are \" + str(type_1_dict[\"Normal\"] + type_2_dict[\"Normal\"]))\n",
    "     else:\n",
    "          print(\"Invalid type. Please try again and enter your desired type in lowercase.\")\n"
   ]
  },
  {
   "cell_type": "code",
   "execution_count": 9,
   "metadata": {},
   "outputs": [
    {
     "ename": "ValueError",
     "evalue": "Boolean array expected for the condition, not object",
     "output_type": "error",
     "traceback": [
      "\u001b[1;31m---------------------------------------------------------------------------\u001b[0m",
      "\u001b[1;31mValueError\u001b[0m                                Traceback (most recent call last)",
      "\u001b[1;32mc:\\Users\\Eliza\\Pokemon_analysis\\pokemon_project.ipynb Cell 11'\u001b[0m in \u001b[0;36m<module>\u001b[1;34m\u001b[0m\n\u001b[0;32m     <a href='vscode-notebook-cell:/c%3A/Users/Eliza/Pokemon_analysis/pokemon_project.ipynb#ch0000010?line=11'>12</a>\u001b[0m water_types1 \u001b[39m=\u001b[39m (filtered_pokedata[filtered_pokedata[\u001b[39m\"\u001b[39m\u001b[39mtype_1\u001b[39m\u001b[39m\"\u001b[39m] \u001b[39m==\u001b[39m \u001b[39m\"\u001b[39m\u001b[39mWater\u001b[39m\u001b[39m\"\u001b[39m])\n\u001b[0;32m     <a href='vscode-notebook-cell:/c%3A/Users/Eliza/Pokemon_analysis/pokemon_project.ipynb#ch0000010?line=12'>13</a>\u001b[0m water_types2 \u001b[39m=\u001b[39m (filtered_pokedata[filtered_pokedata[\u001b[39m\"\u001b[39m\u001b[39mtype_2\u001b[39m\u001b[39m\"\u001b[39m] \u001b[39m==\u001b[39m \u001b[39m\"\u001b[39m\u001b[39mWater\u001b[39m\u001b[39m\"\u001b[39m])\n\u001b[1;32m---> <a href='vscode-notebook-cell:/c%3A/Users/Eliza/Pokemon_analysis/pokemon_project.ipynb#ch0000010?line=13'>14</a>\u001b[0m water_types \u001b[39m=\u001b[39m filtered_pokedata[(filtered_pokedata[water_types1]) \u001b[39m&\u001b[39m (filtered_pokedata[water_types2])]\n\u001b[0;32m     <a href='vscode-notebook-cell:/c%3A/Users/Eliza/Pokemon_analysis/pokemon_project.ipynb#ch0000010?line=14'>15</a>\u001b[0m water_types\n",
      "File \u001b[1;32m~\\AppData\\Local\\Packages\\PythonSoftwareFoundation.Python.3.9_qbz5n2kfra8p0\\LocalCache\\local-packages\\Python39\\site-packages\\pandas\\core\\frame.py:3492\u001b[0m, in \u001b[0;36mDataFrame.__getitem__\u001b[1;34m(self, key)\u001b[0m\n\u001b[0;32m   <a href='file:///c%3A/Users/Eliza/AppData/Local/Packages/PythonSoftwareFoundation.Python.3.9_qbz5n2kfra8p0/LocalCache/local-packages/Python39/site-packages/pandas/core/frame.py?line=3489'>3490</a>\u001b[0m \u001b[39m# Do we have a (boolean) DataFrame?\u001b[39;00m\n\u001b[0;32m   <a href='file:///c%3A/Users/Eliza/AppData/Local/Packages/PythonSoftwareFoundation.Python.3.9_qbz5n2kfra8p0/LocalCache/local-packages/Python39/site-packages/pandas/core/frame.py?line=3490'>3491</a>\u001b[0m \u001b[39mif\u001b[39;00m \u001b[39misinstance\u001b[39m(key, DataFrame):\n\u001b[1;32m-> <a href='file:///c%3A/Users/Eliza/AppData/Local/Packages/PythonSoftwareFoundation.Python.3.9_qbz5n2kfra8p0/LocalCache/local-packages/Python39/site-packages/pandas/core/frame.py?line=3491'>3492</a>\u001b[0m     \u001b[39mreturn\u001b[39;00m \u001b[39mself\u001b[39;49m\u001b[39m.\u001b[39;49mwhere(key)\n\u001b[0;32m   <a href='file:///c%3A/Users/Eliza/AppData/Local/Packages/PythonSoftwareFoundation.Python.3.9_qbz5n2kfra8p0/LocalCache/local-packages/Python39/site-packages/pandas/core/frame.py?line=3493'>3494</a>\u001b[0m \u001b[39m# Do we have a (boolean) 1d indexer?\u001b[39;00m\n\u001b[0;32m   <a href='file:///c%3A/Users/Eliza/AppData/Local/Packages/PythonSoftwareFoundation.Python.3.9_qbz5n2kfra8p0/LocalCache/local-packages/Python39/site-packages/pandas/core/frame.py?line=3494'>3495</a>\u001b[0m \u001b[39mif\u001b[39;00m com\u001b[39m.\u001b[39mis_bool_indexer(key):\n",
      "File \u001b[1;32m~\\AppData\\Local\\Packages\\PythonSoftwareFoundation.Python.3.9_qbz5n2kfra8p0\\LocalCache\\local-packages\\Python39\\site-packages\\pandas\\util\\_decorators.py:311\u001b[0m, in \u001b[0;36mdeprecate_nonkeyword_arguments.<locals>.decorate.<locals>.wrapper\u001b[1;34m(*args, **kwargs)\u001b[0m\n\u001b[0;32m    <a href='file:///c%3A/Users/Eliza/AppData/Local/Packages/PythonSoftwareFoundation.Python.3.9_qbz5n2kfra8p0/LocalCache/local-packages/Python39/site-packages/pandas/util/_decorators.py?line=304'>305</a>\u001b[0m \u001b[39mif\u001b[39;00m \u001b[39mlen\u001b[39m(args) \u001b[39m>\u001b[39m num_allow_args:\n\u001b[0;32m    <a href='file:///c%3A/Users/Eliza/AppData/Local/Packages/PythonSoftwareFoundation.Python.3.9_qbz5n2kfra8p0/LocalCache/local-packages/Python39/site-packages/pandas/util/_decorators.py?line=305'>306</a>\u001b[0m     warnings\u001b[39m.\u001b[39mwarn(\n\u001b[0;32m    <a href='file:///c%3A/Users/Eliza/AppData/Local/Packages/PythonSoftwareFoundation.Python.3.9_qbz5n2kfra8p0/LocalCache/local-packages/Python39/site-packages/pandas/util/_decorators.py?line=306'>307</a>\u001b[0m         msg\u001b[39m.\u001b[39mformat(arguments\u001b[39m=\u001b[39marguments),\n\u001b[0;32m    <a href='file:///c%3A/Users/Eliza/AppData/Local/Packages/PythonSoftwareFoundation.Python.3.9_qbz5n2kfra8p0/LocalCache/local-packages/Python39/site-packages/pandas/util/_decorators.py?line=307'>308</a>\u001b[0m         \u001b[39mFutureWarning\u001b[39;00m,\n\u001b[0;32m    <a href='file:///c%3A/Users/Eliza/AppData/Local/Packages/PythonSoftwareFoundation.Python.3.9_qbz5n2kfra8p0/LocalCache/local-packages/Python39/site-packages/pandas/util/_decorators.py?line=308'>309</a>\u001b[0m         stacklevel\u001b[39m=\u001b[39mstacklevel,\n\u001b[0;32m    <a href='file:///c%3A/Users/Eliza/AppData/Local/Packages/PythonSoftwareFoundation.Python.3.9_qbz5n2kfra8p0/LocalCache/local-packages/Python39/site-packages/pandas/util/_decorators.py?line=309'>310</a>\u001b[0m     )\n\u001b[1;32m--> <a href='file:///c%3A/Users/Eliza/AppData/Local/Packages/PythonSoftwareFoundation.Python.3.9_qbz5n2kfra8p0/LocalCache/local-packages/Python39/site-packages/pandas/util/_decorators.py?line=310'>311</a>\u001b[0m \u001b[39mreturn\u001b[39;00m func(\u001b[39m*\u001b[39margs, \u001b[39m*\u001b[39m\u001b[39m*\u001b[39mkwargs)\n",
      "File \u001b[1;32m~\\AppData\\Local\\Packages\\PythonSoftwareFoundation.Python.3.9_qbz5n2kfra8p0\\LocalCache\\local-packages\\Python39\\site-packages\\pandas\\core\\frame.py:10949\u001b[0m, in \u001b[0;36mDataFrame.where\u001b[1;34m(self, cond, other, inplace, axis, level, errors, try_cast)\u001b[0m\n\u001b[0;32m  <a href='file:///c%3A/Users/Eliza/AppData/Local/Packages/PythonSoftwareFoundation.Python.3.9_qbz5n2kfra8p0/LocalCache/local-packages/Python39/site-packages/pandas/core/frame.py?line=10935'>10936</a>\u001b[0m \u001b[39m@deprecate_nonkeyword_arguments\u001b[39m(\n\u001b[0;32m  <a href='file:///c%3A/Users/Eliza/AppData/Local/Packages/PythonSoftwareFoundation.Python.3.9_qbz5n2kfra8p0/LocalCache/local-packages/Python39/site-packages/pandas/core/frame.py?line=10936'>10937</a>\u001b[0m     version\u001b[39m=\u001b[39m\u001b[39mNone\u001b[39;00m, allowed_args\u001b[39m=\u001b[39m[\u001b[39m\"\u001b[39m\u001b[39mself\u001b[39m\u001b[39m\"\u001b[39m, \u001b[39m\"\u001b[39m\u001b[39mcond\u001b[39m\u001b[39m\"\u001b[39m, \u001b[39m\"\u001b[39m\u001b[39mother\u001b[39m\u001b[39m\"\u001b[39m]\n\u001b[0;32m  <a href='file:///c%3A/Users/Eliza/AppData/Local/Packages/PythonSoftwareFoundation.Python.3.9_qbz5n2kfra8p0/LocalCache/local-packages/Python39/site-packages/pandas/core/frame.py?line=10937'>10938</a>\u001b[0m )\n\u001b[1;32m   (...)\u001b[0m\n\u001b[0;32m  <a href='file:///c%3A/Users/Eliza/AppData/Local/Packages/PythonSoftwareFoundation.Python.3.9_qbz5n2kfra8p0/LocalCache/local-packages/Python39/site-packages/pandas/core/frame.py?line=10946'>10947</a>\u001b[0m     try_cast\u001b[39m=\u001b[39mlib\u001b[39m.\u001b[39mno_default,\n\u001b[0;32m  <a href='file:///c%3A/Users/Eliza/AppData/Local/Packages/PythonSoftwareFoundation.Python.3.9_qbz5n2kfra8p0/LocalCache/local-packages/Python39/site-packages/pandas/core/frame.py?line=10947'>10948</a>\u001b[0m ):\n\u001b[1;32m> <a href='file:///c%3A/Users/Eliza/AppData/Local/Packages/PythonSoftwareFoundation.Python.3.9_qbz5n2kfra8p0/LocalCache/local-packages/Python39/site-packages/pandas/core/frame.py?line=10948'>10949</a>\u001b[0m     \u001b[39mreturn\u001b[39;00m \u001b[39msuper\u001b[39;49m()\u001b[39m.\u001b[39;49mwhere(cond, other, inplace, axis, level, errors, try_cast)\n",
      "File \u001b[1;32m~\\AppData\\Local\\Packages\\PythonSoftwareFoundation.Python.3.9_qbz5n2kfra8p0\\LocalCache\\local-packages\\Python39\\site-packages\\pandas\\core\\generic.py:9318\u001b[0m, in \u001b[0;36mNDFrame.where\u001b[1;34m(self, cond, other, inplace, axis, level, errors, try_cast)\u001b[0m\n\u001b[0;32m   <a href='file:///c%3A/Users/Eliza/AppData/Local/Packages/PythonSoftwareFoundation.Python.3.9_qbz5n2kfra8p0/LocalCache/local-packages/Python39/site-packages/pandas/core/generic.py?line=9309'>9310</a>\u001b[0m \u001b[39mif\u001b[39;00m try_cast \u001b[39mis\u001b[39;00m \u001b[39mnot\u001b[39;00m lib\u001b[39m.\u001b[39mno_default:\n\u001b[0;32m   <a href='file:///c%3A/Users/Eliza/AppData/Local/Packages/PythonSoftwareFoundation.Python.3.9_qbz5n2kfra8p0/LocalCache/local-packages/Python39/site-packages/pandas/core/generic.py?line=9310'>9311</a>\u001b[0m     warnings\u001b[39m.\u001b[39mwarn(\n\u001b[0;32m   <a href='file:///c%3A/Users/Eliza/AppData/Local/Packages/PythonSoftwareFoundation.Python.3.9_qbz5n2kfra8p0/LocalCache/local-packages/Python39/site-packages/pandas/core/generic.py?line=9311'>9312</a>\u001b[0m         \u001b[39m\"\u001b[39m\u001b[39mtry_cast keyword is deprecated and will be removed in a \u001b[39m\u001b[39m\"\u001b[39m\n\u001b[0;32m   <a href='file:///c%3A/Users/Eliza/AppData/Local/Packages/PythonSoftwareFoundation.Python.3.9_qbz5n2kfra8p0/LocalCache/local-packages/Python39/site-packages/pandas/core/generic.py?line=9312'>9313</a>\u001b[0m         \u001b[39m\"\u001b[39m\u001b[39mfuture version.\u001b[39m\u001b[39m\"\u001b[39m,\n\u001b[0;32m   <a href='file:///c%3A/Users/Eliza/AppData/Local/Packages/PythonSoftwareFoundation.Python.3.9_qbz5n2kfra8p0/LocalCache/local-packages/Python39/site-packages/pandas/core/generic.py?line=9313'>9314</a>\u001b[0m         \u001b[39mFutureWarning\u001b[39;00m,\n\u001b[0;32m   <a href='file:///c%3A/Users/Eliza/AppData/Local/Packages/PythonSoftwareFoundation.Python.3.9_qbz5n2kfra8p0/LocalCache/local-packages/Python39/site-packages/pandas/core/generic.py?line=9314'>9315</a>\u001b[0m         stacklevel\u001b[39m=\u001b[39mfind_stack_level(),\n\u001b[0;32m   <a href='file:///c%3A/Users/Eliza/AppData/Local/Packages/PythonSoftwareFoundation.Python.3.9_qbz5n2kfra8p0/LocalCache/local-packages/Python39/site-packages/pandas/core/generic.py?line=9315'>9316</a>\u001b[0m     )\n\u001b[1;32m-> <a href='file:///c%3A/Users/Eliza/AppData/Local/Packages/PythonSoftwareFoundation.Python.3.9_qbz5n2kfra8p0/LocalCache/local-packages/Python39/site-packages/pandas/core/generic.py?line=9317'>9318</a>\u001b[0m \u001b[39mreturn\u001b[39;00m \u001b[39mself\u001b[39;49m\u001b[39m.\u001b[39;49m_where(cond, other, inplace, axis, level, errors\u001b[39m=\u001b[39;49merrors)\n",
      "File \u001b[1;32m~\\AppData\\Local\\Packages\\PythonSoftwareFoundation.Python.3.9_qbz5n2kfra8p0\\LocalCache\\local-packages\\Python39\\site-packages\\pandas\\core\\generic.py:9075\u001b[0m, in \u001b[0;36mNDFrame._where\u001b[1;34m(self, cond, other, inplace, axis, level, errors)\u001b[0m\n\u001b[0;32m   <a href='file:///c%3A/Users/Eliza/AppData/Local/Packages/PythonSoftwareFoundation.Python.3.9_qbz5n2kfra8p0/LocalCache/local-packages/Python39/site-packages/pandas/core/generic.py?line=9072'>9073</a>\u001b[0m         \u001b[39mfor\u001b[39;00m dt \u001b[39min\u001b[39;00m cond\u001b[39m.\u001b[39mdtypes:\n\u001b[0;32m   <a href='file:///c%3A/Users/Eliza/AppData/Local/Packages/PythonSoftwareFoundation.Python.3.9_qbz5n2kfra8p0/LocalCache/local-packages/Python39/site-packages/pandas/core/generic.py?line=9073'>9074</a>\u001b[0m             \u001b[39mif\u001b[39;00m \u001b[39mnot\u001b[39;00m is_bool_dtype(dt):\n\u001b[1;32m-> <a href='file:///c%3A/Users/Eliza/AppData/Local/Packages/PythonSoftwareFoundation.Python.3.9_qbz5n2kfra8p0/LocalCache/local-packages/Python39/site-packages/pandas/core/generic.py?line=9074'>9075</a>\u001b[0m                 \u001b[39mraise\u001b[39;00m \u001b[39mValueError\u001b[39;00m(msg\u001b[39m.\u001b[39mformat(dtype\u001b[39m=\u001b[39mdt))\n\u001b[0;32m   <a href='file:///c%3A/Users/Eliza/AppData/Local/Packages/PythonSoftwareFoundation.Python.3.9_qbz5n2kfra8p0/LocalCache/local-packages/Python39/site-packages/pandas/core/generic.py?line=9075'>9076</a>\u001b[0m \u001b[39melse\u001b[39;00m:\n\u001b[0;32m   <a href='file:///c%3A/Users/Eliza/AppData/Local/Packages/PythonSoftwareFoundation.Python.3.9_qbz5n2kfra8p0/LocalCache/local-packages/Python39/site-packages/pandas/core/generic.py?line=9076'>9077</a>\u001b[0m     \u001b[39m# GH#21947 we have an empty DataFrame/Series, could be object-dtype\u001b[39;00m\n\u001b[0;32m   <a href='file:///c%3A/Users/Eliza/AppData/Local/Packages/PythonSoftwareFoundation.Python.3.9_qbz5n2kfra8p0/LocalCache/local-packages/Python39/site-packages/pandas/core/generic.py?line=9077'>9078</a>\u001b[0m     cond \u001b[39m=\u001b[39m cond\u001b[39m.\u001b[39mastype(\u001b[39mbool\u001b[39m)\n",
      "\u001b[1;31mValueError\u001b[0m: Boolean array expected for the condition, not object"
     ]
    }
   ],
   "source": [
    "\n",
    "fairy_types = pokedata[pokedata[\"type_2\"] == \"Fairy\"]\n",
    "fly_types = filtered_pokedata[filtered_pokedata[\"type_1\"] == \"Flying\"]\n",
    "null_types = pokedata[pokedata[\"type_2\"].isnull()]\n",
    "\n",
    "\n",
    "\n",
    "\n",
    "\n",
    "\n",
    "\n",
    "\n",
    "water_types1 = (filtered_pokedata[filtered_pokedata[\"type_1\"] == \"Water\"])\n",
    "water_types2 = (filtered_pokedata[filtered_pokedata[\"type_2\"] == \"Water\"])\n",
    "water_types = filtered_pokedata[(filtered_pokedata[water_types1]) & (filtered_pokedata[water_types2])]\n",
    "water_types"
   ]
  },
  {
   "cell_type": "code",
   "execution_count": 10,
   "metadata": {},
   "outputs": [
    {
     "ename": "ValueError",
     "evalue": "The truth value of a Series is ambiguous. Use a.empty, a.bool(), a.item(), a.any() or a.all().",
     "output_type": "error",
     "traceback": [
      "\u001b[1;31m---------------------------------------------------------------------------\u001b[0m",
      "\u001b[1;31mValueError\u001b[0m                                Traceback (most recent call last)",
      "\u001b[1;32mc:\\Users\\Eliza\\Pokemon_analysis\\pokemon_project.ipynb Cell 12'\u001b[0m in \u001b[0;36m<module>\u001b[1;34m\u001b[0m\n\u001b[1;32m----> <a href='vscode-notebook-cell:/c%3A/Users/Eliza/Pokemon_analysis/pokemon_project.ipynb#ch0000011?line=0'>1</a>\u001b[0m new_df \u001b[39m=\u001b[39m filtered_pokedata[(filtered_pokedata[\u001b[39m\"\u001b[39m\u001b[39mtype_1\u001b[39m\u001b[39m\"\u001b[39m]\u001b[39m==\u001b[39m\u001b[39m\"\u001b[39m\u001b[39mWater\u001b[39m\u001b[39m\"\u001b[39m) \u001b[39mor\u001b[39;00m (filtered_pokedata[\u001b[39m\"\u001b[39m\u001b[39mtype_2\u001b[39m\u001b[39m\"\u001b[39m]\u001b[39m==\u001b[39m\u001b[39m\"\u001b[39m\u001b[39mWater\u001b[39m\u001b[39m\"\u001b[39m)]\n\u001b[0;32m      <a href='vscode-notebook-cell:/c%3A/Users/Eliza/Pokemon_analysis/pokemon_project.ipynb#ch0000011?line=1'>2</a>\u001b[0m new_df\n",
      "File \u001b[1;32m~\\AppData\\Local\\Packages\\PythonSoftwareFoundation.Python.3.9_qbz5n2kfra8p0\\LocalCache\\local-packages\\Python39\\site-packages\\pandas\\core\\generic.py:1535\u001b[0m, in \u001b[0;36mNDFrame.__nonzero__\u001b[1;34m(self)\u001b[0m\n\u001b[0;32m   <a href='file:///c%3A/Users/Eliza/AppData/Local/Packages/PythonSoftwareFoundation.Python.3.9_qbz5n2kfra8p0/LocalCache/local-packages/Python39/site-packages/pandas/core/generic.py?line=1532'>1533</a>\u001b[0m \u001b[39m@final\u001b[39m\n\u001b[0;32m   <a href='file:///c%3A/Users/Eliza/AppData/Local/Packages/PythonSoftwareFoundation.Python.3.9_qbz5n2kfra8p0/LocalCache/local-packages/Python39/site-packages/pandas/core/generic.py?line=1533'>1534</a>\u001b[0m \u001b[39mdef\u001b[39;00m \u001b[39m__nonzero__\u001b[39m(\u001b[39mself\u001b[39m):\n\u001b[1;32m-> <a href='file:///c%3A/Users/Eliza/AppData/Local/Packages/PythonSoftwareFoundation.Python.3.9_qbz5n2kfra8p0/LocalCache/local-packages/Python39/site-packages/pandas/core/generic.py?line=1534'>1535</a>\u001b[0m     \u001b[39mraise\u001b[39;00m \u001b[39mValueError\u001b[39;00m(\n\u001b[0;32m   <a href='file:///c%3A/Users/Eliza/AppData/Local/Packages/PythonSoftwareFoundation.Python.3.9_qbz5n2kfra8p0/LocalCache/local-packages/Python39/site-packages/pandas/core/generic.py?line=1535'>1536</a>\u001b[0m         \u001b[39mf\u001b[39m\u001b[39m\"\u001b[39m\u001b[39mThe truth value of a \u001b[39m\u001b[39m{\u001b[39;00m\u001b[39mtype\u001b[39m(\u001b[39mself\u001b[39m)\u001b[39m.\u001b[39m\u001b[39m__name__\u001b[39m\u001b[39m}\u001b[39;00m\u001b[39m is ambiguous. \u001b[39m\u001b[39m\"\u001b[39m\n\u001b[0;32m   <a href='file:///c%3A/Users/Eliza/AppData/Local/Packages/PythonSoftwareFoundation.Python.3.9_qbz5n2kfra8p0/LocalCache/local-packages/Python39/site-packages/pandas/core/generic.py?line=1536'>1537</a>\u001b[0m         \u001b[39m\"\u001b[39m\u001b[39mUse a.empty, a.bool(), a.item(), a.any() or a.all().\u001b[39m\u001b[39m\"\u001b[39m\n\u001b[0;32m   <a href='file:///c%3A/Users/Eliza/AppData/Local/Packages/PythonSoftwareFoundation.Python.3.9_qbz5n2kfra8p0/LocalCache/local-packages/Python39/site-packages/pandas/core/generic.py?line=1537'>1538</a>\u001b[0m     )\n",
      "\u001b[1;31mValueError\u001b[0m: The truth value of a Series is ambiguous. Use a.empty, a.bool(), a.item(), a.any() or a.all()."
     ]
    }
   ],
   "source": [
    "new_df = filtered_pokedata[(filtered_pokedata[\"type_1\"]==\"Water\") or (filtered_pokedata[\"type_2\"]==\"Water\")]\n",
    "new_df"
   ]
  },
  {
   "cell_type": "code",
   "execution_count": null,
   "metadata": {},
   "outputs": [],
   "source": []
  },
  {
   "cell_type": "code",
   "execution_count": null,
   "metadata": {},
   "outputs": [
    {
     "data": {
      "text/plain": [
       "0      False\n",
       "1      False\n",
       "2      False\n",
       "3       True\n",
       "4       True\n",
       "       ...  \n",
       "899    False\n",
       "900    False\n",
       "901    False\n",
       "902    False\n",
       "903    False\n",
       "Name: type_2, Length: 904, dtype: bool"
      ]
     },
     "execution_count": 32,
     "metadata": {},
     "output_type": "execute_result"
    }
   ],
   "source": [
    "pokedata['type_2'].isnull()"
   ]
  },
  {
   "cell_type": "code",
   "execution_count": null,
   "metadata": {},
   "outputs": [],
   "source": [
    "##types= pokedata.loc[:, \"type_1\" : \"type_2\"]\n",
    "##print(\"The number of water types are \" + str(types['Water']))"
   ]
  },
  {
   "cell_type": "code",
   "execution_count": null,
   "metadata": {},
   "outputs": [],
   "source": [
    "##Write something that pulls all line numbers with the same chosen variables for 'type_1' & 'type_2' & puts them into a list\n",
    "##pull the numbers for all that meet the proper criteria of the type & note their row numbers\n",
    "##take those numbers and feed it through to spit out the 'en_name' of the numbers\n",
    "##chunk them by 25 at least\n",
    "##create a randomizer with a set loop limit of six and a max of one\n",
    "##tie function to user prompt\n",
    "##create a command to create bar graphs of the types and optionally add the option to limit it by generation so for example gen one would be pokedex numbers 1-151"
   ]
  },
  {
   "cell_type": "code",
   "execution_count": null,
   "metadata": {},
   "outputs": [
    {
     "ename": "NameError",
     "evalue": "name 'pd' is not defined",
     "output_type": "error",
     "traceback": [
      "\u001b[1;31m---------------------------------------------------------------------------\u001b[0m",
      "\u001b[1;31mNameError\u001b[0m                                 Traceback (most recent call last)",
      "\u001b[1;32mc:\\Users\\Eliza\\Pokemon_analysis\\pokemon_project.ipynb Cell 14'\u001b[0m in \u001b[0;36m<module>\u001b[1;34m\u001b[0m\n\u001b[1;32m----> <a href='vscode-notebook-cell:/c%3A/Users/Eliza/Pokemon_analysis/pokemon_project.ipynb#ch0000013?line=0'>1</a>\u001b[0m type_dataflair \u001b[39m=\u001b[39m pd\u001b[39m.\u001b[39mpokedata({Types})\n",
      "\u001b[1;31mNameError\u001b[0m: name 'pd' is not defined"
     ]
    }
   ],
   "source": [
    "pie_chart = pokedata"
   ]
  },
  {
   "cell_type": "markdown",
   "metadata": {},
   "source": [
    "We can plot a pie chart with the help of .plot.pie function. But first, we will make a new dataset which is smaller and has less values to represent, unlike our previous dataset. Therefore, the pie chart would be indecipherable.\n",
    ">>> dataflair= pd.DataFrame({'cost': [79, 40 , 60]},index=['Oranges', 'Bananas', 'Apples'])\n",
    "\n",
    "Now, we will plot the pie chart using:\n",
    ">>> dataflair.plot.pie(y='cost', figsize=(8, 6))\n",
    ">>> plt.show()"
   ]
  },
  {
   "cell_type": "code",
   "execution_count": null,
   "metadata": {},
   "outputs": [
    {
     "name": "stdout",
     "output_type": "stream",
     "text": [
      "Welcome to my Python project! This project has a few different options for you to run!\n",
      "Below are the current listed functions available to you! To use a feature, enter the option's number, and then, if necessary respond as prompted!\n",
      "\n",
      "1. Sort pokemon by their primary type and output the amount of pokemon in said type\n",
      "2. \n"
     ]
    }
   ],
   "source": [
    "print(\""
   ]
  }
 ],
 "metadata": {
  "interpreter": {
   "hash": "2db63ff5e3ceeb5e0ca7aa6a662af4f22e44790aaeaa372ae69e77c14b5da436"
  },
  "kernelspec": {
   "display_name": "Python 3.9.10 64-bit (windows store)",
   "language": "python",
   "name": "python3"
  },
  "language_info": {
   "codemirror_mode": {
    "name": "ipython",
    "version": 3
   },
   "file_extension": ".py",
   "mimetype": "text/x-python",
   "name": "python",
   "nbconvert_exporter": "python",
   "pygments_lexer": "ipython3",
   "version": "3.9.10"
  },
  "orig_nbformat": 4
 },
 "nbformat": 4,
 "nbformat_minor": 2
}
