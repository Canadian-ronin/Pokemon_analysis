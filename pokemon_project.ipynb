{
 "cells": [
  {
   "cell_type": "code",
   "execution_count": 84,
   "metadata": {},
   "outputs": [
    {
     "data": {
      "text/html": [
       "<div>\n",
       "<style scoped>\n",
       "    .dataframe tbody tr th:only-of-type {\n",
       "        vertical-align: middle;\n",
       "    }\n",
       "\n",
       "    .dataframe tbody tr th {\n",
       "        vertical-align: top;\n",
       "    }\n",
       "\n",
       "    .dataframe thead th {\n",
       "        text-align: right;\n",
       "    }\n",
       "</style>\n",
       "<table border=\"1\" class=\"dataframe\">\n",
       "  <thead>\n",
       "    <tr style=\"text-align: right;\">\n",
       "      <th></th>\n",
       "      <th>Unnamed: 0</th>\n",
       "      <th>pokedex_nr</th>\n",
       "      <th>en_name</th>\n",
       "      <th>type_1</th>\n",
       "      <th>type_2</th>\n",
       "      <th>link</th>\n",
       "      <th>type_list</th>\n",
       "      <th>de_name</th>\n",
       "      <th>type_1_german</th>\n",
       "      <th>type_2_german</th>\n",
       "      <th>type_list_ger</th>\n",
       "      <th>fr_name</th>\n",
       "      <th>jp_name</th>\n",
       "      <th>kor_name</th>\n",
       "      <th>chi_name</th>\n",
       "    </tr>\n",
       "  </thead>\n",
       "  <tbody>\n",
       "    <tr>\n",
       "      <th>0</th>\n",
       "      <td>0</td>\n",
       "      <td>1</td>\n",
       "      <td>Bulbasaur</td>\n",
       "      <td>Grass</td>\n",
       "      <td>Poison</td>\n",
       "      <td>https://www.pokewiki.de/Bisasam</td>\n",
       "      <td>['Grass', 'Poison']</td>\n",
       "      <td>Bisasam</td>\n",
       "      <td>Pflanze</td>\n",
       "      <td>Gift</td>\n",
       "      <td>['Pflanze', 'Gift']</td>\n",
       "      <td>Bulbizarre</td>\n",
       "      <td>フシギダネ(Fushigidane)</td>\n",
       "      <td>이상해씨(Isanghaessi)</td>\n",
       "      <td>妙蛙種子 / 妙蛙种子(Miàowāzhǒngzǐ)</td>\n",
       "    </tr>\n",
       "    <tr>\n",
       "      <th>1</th>\n",
       "      <td>1</td>\n",
       "      <td>2</td>\n",
       "      <td>Ivysaur</td>\n",
       "      <td>Grass</td>\n",
       "      <td>Poison</td>\n",
       "      <td>https://www.pokewiki.de/Bisaknosp</td>\n",
       "      <td>['Grass', 'Poison']</td>\n",
       "      <td>Bisaknosp</td>\n",
       "      <td>Pflanze</td>\n",
       "      <td>Gift</td>\n",
       "      <td>['Pflanze', 'Gift']</td>\n",
       "      <td>Herbizarre</td>\n",
       "      <td>フシギソウ(Fushigisou)</td>\n",
       "      <td>이상해풀(Isanghaepul)</td>\n",
       "      <td>妙蛙草 / 妙蛙草(Miàowācǎo)</td>\n",
       "    </tr>\n",
       "    <tr>\n",
       "      <th>2</th>\n",
       "      <td>2</td>\n",
       "      <td>3</td>\n",
       "      <td>Venusaur</td>\n",
       "      <td>Grass</td>\n",
       "      <td>Poison</td>\n",
       "      <td>https://www.pokewiki.de/Bisaflor</td>\n",
       "      <td>['Grass', 'Poison']</td>\n",
       "      <td>Bisaflor</td>\n",
       "      <td>Pflanze</td>\n",
       "      <td>Gift</td>\n",
       "      <td>['Pflanze', 'Gift']</td>\n",
       "      <td>Florizarre</td>\n",
       "      <td>フシギバナ(Fushigibana)</td>\n",
       "      <td>이상해꽃(Isanghaekkot)</td>\n",
       "      <td>妙蛙花 / 妙蛙花(Miàowāhuā)</td>\n",
       "    </tr>\n",
       "    <tr>\n",
       "      <th>3</th>\n",
       "      <td>3</td>\n",
       "      <td>4</td>\n",
       "      <td>Charmander</td>\n",
       "      <td>Fire</td>\n",
       "      <td>NaN</td>\n",
       "      <td>https://www.pokewiki.de/Glumanda</td>\n",
       "      <td>['Fire']</td>\n",
       "      <td>Glumanda</td>\n",
       "      <td>Feuer</td>\n",
       "      <td>NaN</td>\n",
       "      <td>['Feuer']</td>\n",
       "      <td>Salamèche</td>\n",
       "      <td>ヒトカゲ(Hitokage)</td>\n",
       "      <td>파이리(Pairi)</td>\n",
       "      <td>小火龍 / 小火龙(Xiǎohuǒlóng)</td>\n",
       "    </tr>\n",
       "    <tr>\n",
       "      <th>4</th>\n",
       "      <td>4</td>\n",
       "      <td>5</td>\n",
       "      <td>Charmeleon</td>\n",
       "      <td>Fire</td>\n",
       "      <td>NaN</td>\n",
       "      <td>https://www.pokewiki.de/Glutexo</td>\n",
       "      <td>['Fire']</td>\n",
       "      <td>Glutexo</td>\n",
       "      <td>Feuer</td>\n",
       "      <td>NaN</td>\n",
       "      <td>['Feuer']</td>\n",
       "      <td>Reptincel</td>\n",
       "      <td>リザード(Lizardo)</td>\n",
       "      <td>리자드(Rijadeu)</td>\n",
       "      <td>火恐龍 / 火恐龙(Huǒkǒnglóng)</td>\n",
       "    </tr>\n",
       "  </tbody>\n",
       "</table>\n",
       "</div>"
      ],
      "text/plain": [
       "   Unnamed: 0  pokedex_nr     en_name type_1  type_2  \\\n",
       "0           0           1   Bulbasaur  Grass  Poison   \n",
       "1           1           2     Ivysaur  Grass  Poison   \n",
       "2           2           3    Venusaur  Grass  Poison   \n",
       "3           3           4  Charmander   Fire     NaN   \n",
       "4           4           5  Charmeleon   Fire     NaN   \n",
       "\n",
       "                                link            type_list    de_name  \\\n",
       "0    https://www.pokewiki.de/Bisasam  ['Grass', 'Poison']    Bisasam   \n",
       "1  https://www.pokewiki.de/Bisaknosp  ['Grass', 'Poison']  Bisaknosp   \n",
       "2   https://www.pokewiki.de/Bisaflor  ['Grass', 'Poison']   Bisaflor   \n",
       "3   https://www.pokewiki.de/Glumanda             ['Fire']   Glumanda   \n",
       "4    https://www.pokewiki.de/Glutexo             ['Fire']    Glutexo   \n",
       "\n",
       "  type_1_german type_2_german        type_list_ger     fr_name  \\\n",
       "0       Pflanze          Gift  ['Pflanze', 'Gift']  Bulbizarre   \n",
       "1       Pflanze          Gift  ['Pflanze', 'Gift']  Herbizarre   \n",
       "2       Pflanze          Gift  ['Pflanze', 'Gift']  Florizarre   \n",
       "3         Feuer           NaN            ['Feuer']   Salamèche   \n",
       "4         Feuer           NaN            ['Feuer']   Reptincel   \n",
       "\n",
       "              jp_name            kor_name                    chi_name  \n",
       "0  フシギダネ(Fushigidane)   이상해씨(Isanghaessi)  妙蛙種子 / 妙蛙种子(Miàowāzhǒngzǐ)  \n",
       "1   フシギソウ(Fushigisou)   이상해풀(Isanghaepul)        妙蛙草 / 妙蛙草(Miàowācǎo)  \n",
       "2  フシギバナ(Fushigibana)  이상해꽃(Isanghaekkot)        妙蛙花 / 妙蛙花(Miàowāhuā)  \n",
       "3      ヒトカゲ(Hitokage)          파이리(Pairi)      小火龍 / 小火龙(Xiǎohuǒlóng)  \n",
       "4       リザード(Lizardo)        리자드(Rijadeu)      火恐龍 / 火恐龙(Huǒkǒnglóng)  "
      ]
     },
     "execution_count": 84,
     "metadata": {},
     "output_type": "execute_result"
    }
   ],
   "source": [
    "import pandas\n",
    "pokedata=pandas.read_csv(\"pokemon_data.csv\")\n",
    "pokedata.head()"
   ]
  },
  {
   "cell_type": "code",
   "execution_count": 85,
   "metadata": {},
   "outputs": [
    {
     "data": {
      "text/plain": [
       "['Unnamed: 0',\n",
       " 'pokedex_nr',\n",
       " 'en_name',\n",
       " 'type_1',\n",
       " 'type_2',\n",
       " 'link',\n",
       " 'type_list',\n",
       " 'de_name',\n",
       " 'type_1_german',\n",
       " 'type_2_german',\n",
       " 'type_list_ger',\n",
       " 'fr_name',\n",
       " 'jp_name',\n",
       " 'kor_name',\n",
       " 'chi_name']"
      ]
     },
     "execution_count": 85,
     "metadata": {},
     "output_type": "execute_result"
    }
   ],
   "source": [
    "pokedata.columns.values.tolist()"
   ]
  },
  {
   "cell_type": "code",
   "execution_count": 86,
   "metadata": {},
   "outputs": [
    {
     "data": {
      "text/html": [
       "<div>\n",
       "<style scoped>\n",
       "    .dataframe tbody tr th:only-of-type {\n",
       "        vertical-align: middle;\n",
       "    }\n",
       "\n",
       "    .dataframe tbody tr th {\n",
       "        vertical-align: top;\n",
       "    }\n",
       "\n",
       "    .dataframe thead th {\n",
       "        text-align: right;\n",
       "    }\n",
       "</style>\n",
       "<table border=\"1\" class=\"dataframe\">\n",
       "  <thead>\n",
       "    <tr style=\"text-align: right;\">\n",
       "      <th></th>\n",
       "      <th>pokedex_nr</th>\n",
       "      <th>en_name</th>\n",
       "      <th>type_1</th>\n",
       "      <th>type_2</th>\n",
       "      <th>link</th>\n",
       "    </tr>\n",
       "  </thead>\n",
       "  <tbody>\n",
       "    <tr>\n",
       "      <th>0</th>\n",
       "      <td>1</td>\n",
       "      <td>Bulbasaur</td>\n",
       "      <td>Grass</td>\n",
       "      <td>Poison</td>\n",
       "      <td>https://www.pokewiki.de/Bisasam</td>\n",
       "    </tr>\n",
       "    <tr>\n",
       "      <th>1</th>\n",
       "      <td>2</td>\n",
       "      <td>Ivysaur</td>\n",
       "      <td>Grass</td>\n",
       "      <td>Poison</td>\n",
       "      <td>https://www.pokewiki.de/Bisaknosp</td>\n",
       "    </tr>\n",
       "    <tr>\n",
       "      <th>2</th>\n",
       "      <td>3</td>\n",
       "      <td>Venusaur</td>\n",
       "      <td>Grass</td>\n",
       "      <td>Poison</td>\n",
       "      <td>https://www.pokewiki.de/Bisaflor</td>\n",
       "    </tr>\n",
       "    <tr>\n",
       "      <th>3</th>\n",
       "      <td>4</td>\n",
       "      <td>Charmander</td>\n",
       "      <td>Fire</td>\n",
       "      <td>NaN</td>\n",
       "      <td>https://www.pokewiki.de/Glumanda</td>\n",
       "    </tr>\n",
       "    <tr>\n",
       "      <th>4</th>\n",
       "      <td>5</td>\n",
       "      <td>Charmeleon</td>\n",
       "      <td>Fire</td>\n",
       "      <td>NaN</td>\n",
       "      <td>https://www.pokewiki.de/Glutexo</td>\n",
       "    </tr>\n",
       "    <tr>\n",
       "      <th>...</th>\n",
       "      <td>...</td>\n",
       "      <td>...</td>\n",
       "      <td>...</td>\n",
       "      <td>...</td>\n",
       "      <td>...</td>\n",
       "    </tr>\n",
       "    <tr>\n",
       "      <th>899</th>\n",
       "      <td>900</td>\n",
       "      <td>Kleavor</td>\n",
       "      <td>Bug</td>\n",
       "      <td>Rock</td>\n",
       "      <td>https://www.pokewiki.de/Axantor</td>\n",
       "    </tr>\n",
       "    <tr>\n",
       "      <th>900</th>\n",
       "      <td>901</td>\n",
       "      <td>Ursaluna</td>\n",
       "      <td>Ground</td>\n",
       "      <td>Normal</td>\n",
       "      <td>https://www.pokewiki.de/Ursaluna</td>\n",
       "    </tr>\n",
       "    <tr>\n",
       "      <th>901</th>\n",
       "      <td>902</td>\n",
       "      <td>Basculegion</td>\n",
       "      <td>Water</td>\n",
       "      <td>Ghost</td>\n",
       "      <td>https://www.pokewiki.de/Salmagnis</td>\n",
       "    </tr>\n",
       "    <tr>\n",
       "      <th>902</th>\n",
       "      <td>903</td>\n",
       "      <td>Sneasler</td>\n",
       "      <td>Fight</td>\n",
       "      <td>Poison</td>\n",
       "      <td>https://www.pokewiki.de/Snieboss</td>\n",
       "    </tr>\n",
       "    <tr>\n",
       "      <th>903</th>\n",
       "      <td>904</td>\n",
       "      <td>Overqwil</td>\n",
       "      <td>Dark</td>\n",
       "      <td>Poison</td>\n",
       "      <td>https://www.pokewiki.de/Myriador</td>\n",
       "    </tr>\n",
       "  </tbody>\n",
       "</table>\n",
       "<p>904 rows × 5 columns</p>\n",
       "</div>"
      ],
      "text/plain": [
       "     pokedex_nr      en_name  type_1  type_2  \\\n",
       "0             1    Bulbasaur   Grass  Poison   \n",
       "1             2      Ivysaur   Grass  Poison   \n",
       "2             3     Venusaur   Grass  Poison   \n",
       "3             4   Charmander    Fire     NaN   \n",
       "4             5   Charmeleon    Fire     NaN   \n",
       "..          ...          ...     ...     ...   \n",
       "899         900      Kleavor     Bug    Rock   \n",
       "900         901     Ursaluna  Ground  Normal   \n",
       "901         902  Basculegion   Water   Ghost   \n",
       "902         903     Sneasler   Fight  Poison   \n",
       "903         904     Overqwil    Dark  Poison   \n",
       "\n",
       "                                  link  \n",
       "0      https://www.pokewiki.de/Bisasam  \n",
       "1    https://www.pokewiki.de/Bisaknosp  \n",
       "2     https://www.pokewiki.de/Bisaflor  \n",
       "3     https://www.pokewiki.de/Glumanda  \n",
       "4      https://www.pokewiki.de/Glutexo  \n",
       "..                                 ...  \n",
       "899    https://www.pokewiki.de/Axantor  \n",
       "900   https://www.pokewiki.de/Ursaluna  \n",
       "901  https://www.pokewiki.de/Salmagnis  \n",
       "902   https://www.pokewiki.de/Snieboss  \n",
       "903   https://www.pokewiki.de/Myriador  \n",
       "\n",
       "[904 rows x 5 columns]"
      ]
     },
     "execution_count": 86,
     "metadata": {},
     "output_type": "execute_result"
    }
   ],
   "source": [
    "(pokedata.iloc[:, [1, 2, 3, 4, 5]])"
   ]
  },
  {
   "cell_type": "code",
   "execution_count": 87,
   "metadata": {},
   "outputs": [
    {
     "name": "stdout",
     "output_type": "stream",
     "text": [
      "Welcome to my Python project! This project has many different options for you to run!\n",
      "Below are the current listed functions available to you! To use a feature, enter the option's number, and then, if necessary respond as prompted!\n",
      "\n",
      "1. Sort pokemon by their primary type and output the amount of pokemon in said type\n",
      "2. \n"
     ]
    }
   ],
   "source": [
    "print(\"Welcome to my Python project! This project has many different options for you to run!\")\n",
    "print(\"Below are the current listed functions available to you! To use a feature, enter the option's number, and then, if necessary respond as prompted!\")\n",
    "print(\"\\n1. Sort pokemon by their primary type and output the amount of pokemon in said type\")\n",
    "print(\"2. \")"
   ]
  },
  {
   "cell_type": "code",
   "execution_count": 88,
   "metadata": {},
   "outputs": [
    {
     "name": "stdout",
     "output_type": "stream",
     "text": [
      "['Unnamed: 0', 'pokedex_nr', 'en_name', 'type_1', 'type_2', 'link', 'type_list', 'de_name', 'type_1_german', 'type_2_german', 'type_list_ger', 'fr_name', 'jp_name', 'kor_name', 'chi_name']\n"
     ]
    }
   ],
   "source": [
    "##Write something that pulls all line numbers with the same chosen variables for 'type_1' & 'type_2' & puts them into a list\n",
    "##pull the numbers for all that meet the proper criteria of the type & note their row numbers\n",
    "##take those numbers and feed it through to spit out the 'en_name' of the numbers\n",
    "##chunk them by 25 at least\n",
    "\n",
    "type_1_list = []\n",
    "for column in pokedata:\n",
    "    type_1_list.append(column)\n",
    "print(type_1_list)"
   ]
  },
  {
   "cell_type": "code",
   "execution_count": 89,
   "metadata": {},
   "outputs": [
    {
     "name": "stdout",
     "output_type": "stream",
     "text": [
      "124\n",
      "Water       124\n",
      "Normal      110\n",
      "Grass        86\n",
      "Bug          76\n",
      "Fire         58\n",
      "Psychic      58\n",
      "Rock         50\n",
      "Electric     49\n",
      "Dark         37\n",
      "Fight        37\n",
      "Ground       36\n",
      "Poison       35\n",
      "Ghost        31\n",
      "Dragon       31\n",
      "Steel        30\n",
      "Ice          28\n",
      "Fairy        21\n",
      "Flug          7\n",
      "Name: type_1, dtype: int64\n"
     ]
    }
   ],
   "source": [
    "##create a randomizer with a set loop limit of six and a max of one\n",
    "##tie function to user prompt\n",
    "type_1_dict = pokedata['type_1'].value_counts()\n",
    "print(type_1_dict[input()])\n",
    "print(type_1_dict)\n"
   ]
  },
  {
   "cell_type": "code",
   "execution_count": 90,
   "metadata": {},
   "outputs": [
    {
     "ename": "SyntaxError",
     "evalue": "invalid syntax (1680783556.py, line 5)",
     "output_type": "error",
     "traceback": [
      "\u001b[1;36m  File \u001b[1;32m\"C:\\Users\\18596\\AppData\\Local\\Temp\\ipykernel_17052\\1680783556.py\"\u001b[1;36m, line \u001b[1;32m5\u001b[0m\n\u001b[1;33m    then: print(\"The number of flying types are:\") print(type_2_dict[\"Flug\"])\u001b[0m\n\u001b[1;37m                                                       ^\u001b[0m\n\u001b[1;31mSyntaxError\u001b[0m\u001b[1;31m:\u001b[0m invalid syntax\n"
     ]
    }
   ],
   "source": [
    "type_2_dict=pokedata['type_2'].value_counts()\n",
    "#if userinput()\"Water\":\n",
    "   # then print(\"The number of water types is\" + type_2_dict[Water])\n",
    "if  userinput()==\"flying\":\n",
    "        then: print(\"The number of flying types are:\") print(type_2_dict[\"Flug\"])\n",
    "##print(\"The number of \" +  + \"types are\" + type_2_dict[input()])"
   ]
  },
  {
   "cell_type": "code",
   "execution_count": null,
   "metadata": {},
   "outputs": [
    {
     "ename": "SyntaxError",
     "evalue": "invalid syntax (250054541.py, line 1)",
     "output_type": "error",
     "traceback": [
      "\u001b[1;36m  File \u001b[1;32m\"C:\\Users\\18596\\AppData\\Local\\Temp\\ipykernel_17052\\250054541.py\"\u001b[1;36m, line \u001b[1;32m1\u001b[0m\n\u001b[1;33m    if input() == \"fairy\"\u001b[0m\n\u001b[1;37m                         ^\u001b[0m\n\u001b[1;31mSyntaxError\u001b[0m\u001b[1;31m:\u001b[0m invalid syntax\n"
     ]
    }
   ],
   "source": [
    "if input() == \"fairy\"\n",
    "fairy_pokes = pokedata[pokedata[\"type_1\"] == \"Fairy\"]\n",
    "print(fairy_pokes)"
   ]
  },
  {
   "cell_type": "code",
   "execution_count": null,
   "metadata": {},
   "outputs": [
    {
     "name": "stdout",
     "output_type": "stream",
     "text": [
      "     Unnamed: 0  pokedex_nr     en_name  type_1 type_2  \\\n",
      "5             5           6   Charizard    Fire   Flug   \n",
      "11           11          12  Butterfree     Bug   Flug   \n",
      "15           15          16      Pidgey  Normal   Flug   \n",
      "16           16          17   Pidgeotto  Normal   Flug   \n",
      "17           17          18     Pidgeot  Normal   Flug   \n",
      "..          ...         ...         ...     ...    ...   \n",
      "731         731         732    Trumbeak  Normal   Flug   \n",
      "732         732         733   Toucannon  Normal   Flug   \n",
      "740         740         741    Oricorio    Fire   Flug   \n",
      "773         773         774      Minior    Rock   Flug   \n",
      "796         796         797  Celesteela   Steel   Flug   \n",
      "\n",
      "                                  link           type_list    de_name  \\\n",
      "5       https://www.pokewiki.de/Glurak    ['Fire', 'Flug']     Glurak   \n",
      "11     https://www.pokewiki.de/Smettbo     ['Bug', 'Flug']    Smettbo   \n",
      "15      https://www.pokewiki.de/Taubsi  ['Normal', 'Flug']     Taubsi   \n",
      "16     https://www.pokewiki.de/Tauboga  ['Normal', 'Flug']    Tauboga   \n",
      "17     https://www.pokewiki.de/Tauboss  ['Normal', 'Flug']    Tauboss   \n",
      "..                                 ...                 ...        ...   \n",
      "731   https://www.pokewiki.de/Trompeck  ['Normal', 'Flug']   Trompeck   \n",
      "732    https://www.pokewiki.de/Tukanon  ['Normal', 'Flug']    Tukanon   \n",
      "740  https://www.pokewiki.de/Choreogel    ['Fire', 'Flug']  Choreogel   \n",
      "773     https://www.pokewiki.de/Meteno    ['Rock', 'Flug']     Meteno   \n",
      "796    https://www.pokewiki.de/Kaguron   ['Steel', 'Flug']    Kaguron   \n",
      "\n",
      "    type_1_german type_2_german        type_list_ger      fr_name  \\\n",
      "5           Feuer          Flug    ['Feuer', 'Flug']    Dracaufeu   \n",
      "11          Käfer          Flug    ['Käfer', 'Flug']   Papilusion   \n",
      "15         Normal          Flug   ['Normal', 'Flug']      Roucool   \n",
      "16         Normal          Flug   ['Normal', 'Flug']     Roucoups   \n",
      "17         Normal          Flug   ['Normal', 'Flug']   Roucarnage   \n",
      "..            ...           ...                  ...          ...   \n",
      "731        Normal          Flug   ['Normal', 'Flug']    Piclairon   \n",
      "732        Normal          Flug   ['Normal', 'Flug']     Bazoucan   \n",
      "740         Feuer          Flug    ['Feuer', 'Flug']    Plumeline   \n",
      "773       Gestein          Flug  ['Gestein', 'Flug']       Météno   \n",
      "796         Stahl          Flug    ['Stahl', 'Flug']  Bamboiselle   \n",
      "\n",
      "                jp_name            kor_name                     chi_name  \n",
      "5       リザードン(Lizardon)       리자몽(Rijamong)        噴火龍 / 喷火龙(Pēnhuǒlóng)  \n",
      "11    バタフリー(Butterfree)     버터플(Beoteopeul)           巴大蝶 / 巴大蝶(Bādàdié)  \n",
      "15           ポッポ(Poppo)            구구(Gugu)                波波 / 波波(Bōbō)  \n",
      "16         ピジョン(Pigeon)          피죤(Pijyon)          比比鳥 / 比比鸟(Bǐbǐniǎo)  \n",
      "17        ピジョット(Pigeot)       피죤투(Pijyontu)          大比鳥 / 大比鸟(Dàbǐniǎo)  \n",
      "..                  ...                 ...                          ...  \n",
      "731    ケララッパ(Kerarappa)        크라파(Keurapa)    喇叭啄鳥 / 喇叭啄鸟(Lǎbāzhuóniǎo)  \n",
      "732  ドデカバシ(Dodekabashi)  왕큰부리(Wangkeunburi)  銃嘴大鳥 / 铳嘴大鸟(Chòngzuǐdàniǎo)  \n",
      "740    オドリドリ(Odoridori)     춤추새(Chumchusae)         花舞鳥 / 花舞鸟(Huāwǔniǎo)  \n",
      "773         メテノ(Meteno)         메테노(Meteno)       小隕星 / 小陨星(Xiǎoyǔnxīng)  \n",
      "796    テッカグヤ(Tekkaguya)  철화구야(Cheolhwaguya)     鐵火輝夜 / 铁火辉夜(Tiěhuǒhuīyè)  \n",
      "\n",
      "[95 rows x 15 columns]\n"
     ]
    }
   ],
   "source": [
    "##create a command to create bar graphs of the types and optionally add the option to limit it by generation so for example gen one would be pokedex numbers 1-151\n",
    "fly_pokes = pokedata[pokedata[\"type_2\"] == \"Flug\"]\n",
    "print(fly_pokes)"
   ]
  },
  {
   "cell_type": "code",
   "execution_count": null,
   "metadata": {},
   "outputs": [
    {
     "data": {
      "text/plain": [
       "<function _pydev_bundle.pydev_umd.runfile(filename, args=None, wdir=None, namespace=None)>"
      ]
     },
     "execution_count": 14,
     "metadata": {},
     "output_type": "execute_result"
    }
   ],
   "source": []
  },
  {
   "cell_type": "code",
   "execution_count": null,
   "metadata": {},
   "outputs": [],
   "source": []
  }
 ],
 "metadata": {
  "interpreter": {
   "hash": "2db63ff5e3ceeb5e0ca7aa6a662af4f22e44790aaeaa372ae69e77c14b5da436"
  },
  "kernelspec": {
   "display_name": "Python 3.9.10 64-bit (windows store)",
   "language": "python",
   "name": "python3"
  },
  "language_info": {
   "codemirror_mode": {
    "name": "ipython",
    "version": 3
   },
   "file_extension": ".py",
   "mimetype": "text/x-python",
   "name": "python",
   "nbconvert_exporter": "python",
   "pygments_lexer": "ipython3",
   "version": "3.7.4"
  },
  "orig_nbformat": 4
 },
 "nbformat": 4,
 "nbformat_minor": 2
}
