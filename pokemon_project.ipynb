{
 "cells": [
  {
   "cell_type": "markdown",
   "metadata": {},
   "source": [
    "#### Hello there! Welcome to the world of Pokémon! My name is Eliza! I am not a Pokémon Professor, but I am a fan of the series!\n",
    "\n",
    "This Jupyter notebook is designed to analyse the entirety of the Pokédex (Pre-Arceus)\n",
    "For this project, I am creating an up to date (up to date all the way to Pre-Pokémon: Arceus so its nearly accurate) Pokémon analysis project.\n",
    "\n",
    "My goals for this particular project are to give you, the user to:\n",
    "    1. Choose and learn the quantities of Pokémon in a single type\n",
    "    2. Display that data in an easy to compare format of a pie chart\n",
    "    3. Create Pokémon teams of up to six randomized Pokémon from our database\n",
    "jhkjkjj"
   ]
  },
  {
   "cell_type": "code",
   "execution_count": 28,
   "metadata": {},
   "outputs": [],
   "source": [
    "#do not touch\n",
    "import pandas\n",
    "import random\n",
    "from random import randint\n",
    "import matplotlib"
   ]
  },
  {
   "cell_type": "code",
   "execution_count": 5,
   "metadata": {},
   "outputs": [
    {
     "data": {
      "text/html": [
       "<div>\n",
       "<style scoped>\n",
       "    .dataframe tbody tr th:only-of-type {\n",
       "        vertical-align: middle;\n",
       "    }\n",
       "\n",
       "    .dataframe tbody tr th {\n",
       "        vertical-align: top;\n",
       "    }\n",
       "\n",
       "    .dataframe thead th {\n",
       "        text-align: right;\n",
       "    }\n",
       "</style>\n",
       "<table border=\"1\" class=\"dataframe\">\n",
       "  <thead>\n",
       "    <tr style=\"text-align: right;\">\n",
       "      <th></th>\n",
       "      <th>Unnamed: 0</th>\n",
       "      <th>pokedex_nr</th>\n",
       "      <th>en_name</th>\n",
       "      <th>type_1</th>\n",
       "      <th>type_2</th>\n",
       "      <th>link</th>\n",
       "      <th>type_list</th>\n",
       "      <th>de_name</th>\n",
       "      <th>type_1_german</th>\n",
       "      <th>type_2_german</th>\n",
       "      <th>type_list_ger</th>\n",
       "      <th>fr_name</th>\n",
       "      <th>jp_name</th>\n",
       "      <th>kor_name</th>\n",
       "      <th>chi_name</th>\n",
       "    </tr>\n",
       "  </thead>\n",
       "  <tbody>\n",
       "    <tr>\n",
       "      <th>0</th>\n",
       "      <td>0</td>\n",
       "      <td>1</td>\n",
       "      <td>Bulbasaur</td>\n",
       "      <td>Grass</td>\n",
       "      <td>Poison</td>\n",
       "      <td>https://www.pokewiki.de/Bisasam</td>\n",
       "      <td>['Grass', 'Poison']</td>\n",
       "      <td>Bisasam</td>\n",
       "      <td>Pflanze</td>\n",
       "      <td>Gift</td>\n",
       "      <td>['Pflanze', 'Gift']</td>\n",
       "      <td>Bulbizarre</td>\n",
       "      <td>フシギダネ(Fushigidane)</td>\n",
       "      <td>이상해씨(Isanghaessi)</td>\n",
       "      <td>妙蛙種子 / 妙蛙种子(Miàowāzhǒngzǐ)</td>\n",
       "    </tr>\n",
       "    <tr>\n",
       "      <th>1</th>\n",
       "      <td>1</td>\n",
       "      <td>2</td>\n",
       "      <td>Ivysaur</td>\n",
       "      <td>Grass</td>\n",
       "      <td>Poison</td>\n",
       "      <td>https://www.pokewiki.de/Bisaknosp</td>\n",
       "      <td>['Grass', 'Poison']</td>\n",
       "      <td>Bisaknosp</td>\n",
       "      <td>Pflanze</td>\n",
       "      <td>Gift</td>\n",
       "      <td>['Pflanze', 'Gift']</td>\n",
       "      <td>Herbizarre</td>\n",
       "      <td>フシギソウ(Fushigisou)</td>\n",
       "      <td>이상해풀(Isanghaepul)</td>\n",
       "      <td>妙蛙草 / 妙蛙草(Miàowācǎo)</td>\n",
       "    </tr>\n",
       "    <tr>\n",
       "      <th>2</th>\n",
       "      <td>2</td>\n",
       "      <td>3</td>\n",
       "      <td>Venusaur</td>\n",
       "      <td>Grass</td>\n",
       "      <td>Poison</td>\n",
       "      <td>https://www.pokewiki.de/Bisaflor</td>\n",
       "      <td>['Grass', 'Poison']</td>\n",
       "      <td>Bisaflor</td>\n",
       "      <td>Pflanze</td>\n",
       "      <td>Gift</td>\n",
       "      <td>['Pflanze', 'Gift']</td>\n",
       "      <td>Florizarre</td>\n",
       "      <td>フシギバナ(Fushigibana)</td>\n",
       "      <td>이상해꽃(Isanghaekkot)</td>\n",
       "      <td>妙蛙花 / 妙蛙花(Miàowāhuā)</td>\n",
       "    </tr>\n",
       "    <tr>\n",
       "      <th>3</th>\n",
       "      <td>3</td>\n",
       "      <td>4</td>\n",
       "      <td>Charmander</td>\n",
       "      <td>Fire</td>\n",
       "      <td>NaN</td>\n",
       "      <td>https://www.pokewiki.de/Glumanda</td>\n",
       "      <td>['Fire']</td>\n",
       "      <td>Glumanda</td>\n",
       "      <td>Feuer</td>\n",
       "      <td>NaN</td>\n",
       "      <td>['Feuer']</td>\n",
       "      <td>Salamèche</td>\n",
       "      <td>ヒトカゲ(Hitokage)</td>\n",
       "      <td>파이리(Pairi)</td>\n",
       "      <td>小火龍 / 小火龙(Xiǎohuǒlóng)</td>\n",
       "    </tr>\n",
       "    <tr>\n",
       "      <th>4</th>\n",
       "      <td>4</td>\n",
       "      <td>5</td>\n",
       "      <td>Charmeleon</td>\n",
       "      <td>Fire</td>\n",
       "      <td>NaN</td>\n",
       "      <td>https://www.pokewiki.de/Glutexo</td>\n",
       "      <td>['Fire']</td>\n",
       "      <td>Glutexo</td>\n",
       "      <td>Feuer</td>\n",
       "      <td>NaN</td>\n",
       "      <td>['Feuer']</td>\n",
       "      <td>Reptincel</td>\n",
       "      <td>リザード(Lizardo)</td>\n",
       "      <td>리자드(Rijadeu)</td>\n",
       "      <td>火恐龍 / 火恐龙(Huǒkǒnglóng)</td>\n",
       "    </tr>\n",
       "  </tbody>\n",
       "</table>\n",
       "</div>"
      ],
      "text/plain": [
       "   Unnamed: 0  pokedex_nr     en_name type_1  type_2  \\\n",
       "0           0           1   Bulbasaur  Grass  Poison   \n",
       "1           1           2     Ivysaur  Grass  Poison   \n",
       "2           2           3    Venusaur  Grass  Poison   \n",
       "3           3           4  Charmander   Fire     NaN   \n",
       "4           4           5  Charmeleon   Fire     NaN   \n",
       "\n",
       "                                link            type_list    de_name  \\\n",
       "0    https://www.pokewiki.de/Bisasam  ['Grass', 'Poison']    Bisasam   \n",
       "1  https://www.pokewiki.de/Bisaknosp  ['Grass', 'Poison']  Bisaknosp   \n",
       "2   https://www.pokewiki.de/Bisaflor  ['Grass', 'Poison']   Bisaflor   \n",
       "3   https://www.pokewiki.de/Glumanda             ['Fire']   Glumanda   \n",
       "4    https://www.pokewiki.de/Glutexo             ['Fire']    Glutexo   \n",
       "\n",
       "  type_1_german type_2_german        type_list_ger     fr_name  \\\n",
       "0       Pflanze          Gift  ['Pflanze', 'Gift']  Bulbizarre   \n",
       "1       Pflanze          Gift  ['Pflanze', 'Gift']  Herbizarre   \n",
       "2       Pflanze          Gift  ['Pflanze', 'Gift']  Florizarre   \n",
       "3         Feuer           NaN            ['Feuer']   Salamèche   \n",
       "4         Feuer           NaN            ['Feuer']   Reptincel   \n",
       "\n",
       "              jp_name            kor_name                    chi_name  \n",
       "0  フシギダネ(Fushigidane)   이상해씨(Isanghaessi)  妙蛙種子 / 妙蛙种子(Miàowāzhǒngzǐ)  \n",
       "1   フシギソウ(Fushigisou)   이상해풀(Isanghaepul)        妙蛙草 / 妙蛙草(Miàowācǎo)  \n",
       "2  フシギバナ(Fushigibana)  이상해꽃(Isanghaekkot)        妙蛙花 / 妙蛙花(Miàowāhuā)  \n",
       "3      ヒトカゲ(Hitokage)          파이리(Pairi)      小火龍 / 小火龙(Xiǎohuǒlóng)  \n",
       "4       リザード(Lizardo)        리자드(Rijadeu)      火恐龍 / 火恐龙(Huǒkǒnglóng)  "
      ]
     },
     "execution_count": 5,
     "metadata": {},
     "output_type": "execute_result"
    }
   ],
   "source": [
    "#do not touch\n",
    "pokedata=pandas.read_csv(\"pokemon_data.csv\")\n",
    "pokedata.head()"
   ]
  },
  {
   "cell_type": "code",
   "execution_count": 6,
   "metadata": {},
   "outputs": [],
   "source": [
    "#do not touch\n",
    "filtered_pokedata = (pokedata.iloc[:, [1, 2, 3, 4, 5]])"
   ]
  },
  {
   "cell_type": "markdown",
   "metadata": {},
   "source": [
    "# Type Numbering\n",
    "\n",
    "#### Below is the type numbering cells for which I will explain the given purpose of each cell:\n",
    "\n",
    "1. The first cell will tell you the number of Pokémon with a given type as its primary type\n",
    "\n",
    "2. The second cell will tell you the number of Pokémon with a given type as its secondary excluding Pokémon with only one type overall\n",
    "\n",
    "3. The total number of Pokémon with a type as its primary or secondary type. *Note, if added up together it will exceed the number of Pokémon that are listed because there are many multi-type Pokémon.*\n",
    "    \n",
    "4. The fourth cell requires you to input a specified Pokémon type in all **_lowercase letters_** and then it will return the amount of Pokémon in that specified type. These are the types:\n",
    "* Bug\n",
    "* Dark\n",
    "* Dragon\n",
    "* Electric\n",
    "* Fairy\n",
    "* Fight\n",
    "* Fire\n",
    "* Flying\n",
    "* Ghost\n",
    "* Grass\n",
    "* Ground\n",
    "* Ice\n",
    "* Normal\n",
    "* Poison\n",
    "* Psychic\n",
    "* Rock\n",
    "* Steel\n",
    "* Water"
   ]
  },
  {
   "cell_type": "code",
   "execution_count": 7,
   "metadata": {},
   "outputs": [
    {
     "data": {
      "text/plain": [
       "Water       124\n",
       "Normal      110\n",
       "Grass        86\n",
       "Bug          76\n",
       "Fire         58\n",
       "Psychic      58\n",
       "Rock         50\n",
       "Electric     49\n",
       "Dark         37\n",
       "Fight        37\n",
       "Ground       36\n",
       "Poison       35\n",
       "Ghost        31\n",
       "Dragon       31\n",
       "Steel        30\n",
       "Ice          28\n",
       "Fairy        21\n",
       "Flying        7\n",
       "Name: type_1, dtype: int64"
      ]
     },
     "execution_count": 7,
     "metadata": {},
     "output_type": "execute_result"
    }
   ],
   "source": [
    "type_1_series = pokedata['type_1'].value_counts()\n",
    "type_1_series"
   ]
  },
  {
   "cell_type": "code",
   "execution_count": 8,
   "metadata": {},
   "outputs": [
    {
     "data": {
      "text/plain": [
       "Flying      95\n",
       "Poison      36\n",
       "Fairy       33\n",
       "Psychic     33\n",
       "Ground      32\n",
       "Dragon      25\n",
       "Fight       25\n",
       "Steel       24\n",
       "Grass       21\n",
       "Ghost       21\n",
       "Dark        19\n",
       "Water       18\n",
       "Rock        16\n",
       "Fire        13\n",
       "Ice         13\n",
       "Bug          9\n",
       "Electric     8\n",
       "Normal       7\n",
       "Name: type_2, dtype: int64"
      ]
     },
     "execution_count": 8,
     "metadata": {},
     "output_type": "execute_result"
    }
   ],
   "source": [
    "type_2_series = pokedata['type_2'].value_counts()\n",
    "type_2_series"
   ]
  },
  {
   "cell_type": "code",
   "execution_count": 9,
   "metadata": {},
   "outputs": [],
   "source": [
    "type_both = (type_1_series + type_2_series)"
   ]
  },
  {
   "cell_type": "code",
   "execution_count": 10,
   "metadata": {},
   "outputs": [
    {
     "data": {
      "text/plain": [
       "'The number of fire type pokemon is 71'"
      ]
     },
     "execution_count": 10,
     "metadata": {},
     "output_type": "execute_result"
    }
   ],
   "source": [
    "#Pulling type numbers from both primary and secondary types and combining them into a nice easy to read string\n",
    "type_input = input()\n",
    "\n",
    "def type_numbering(type_input):\n",
    "     if type_input == \"water\":\n",
    "          return (\"The number of water type pokemon is \" + str(type_1_series[\"Water\"] + type_2_series[\"Water\"]))\n",
    "     elif type_input ==\"flying\":\n",
    "          return (\"The number of flying type pokemon is \" + str(type_1_series[\"Flying\"] + type_2_series[\"Flying\"]))\n",
    "     elif type_input == \"fire\":\n",
    "          return (\"The number of fire type pokemon is \" + str(type_1_series[\"Fire\"] + type_2_series[\"Fire\"]))\n",
    "     elif type_input == \"bug\":\n",
    "          return (\"The number of bug type pokemon is \" + str(type_1_series[\"Bug\"] + type_2_series[\"Bug\"]))\n",
    "     elif type_input == \"electric\":\n",
    "          return (\"The number of electric type pokemon is \" + str(type_1_series[\"Electric\"] + type_2_series[\"Bug\"]))\n",
    "     elif type_input == \"poison\":\n",
    "          return (\"The number of poison type pokemon is \" + str(type_1_series[\"Poison\"] + type_2_series[\"Poison\"]))\n",
    "     elif type_input == \"fairy\":\n",
    "          return (\"The number of fairy type pokemon is \" + str(type_1_series[\"Fairy\"] + type_2_series[\"Fairy\"]))\n",
    "     elif type_input == \"psychic\":\n",
    "          return (\"The number of psychic type pokemon is \" + str(type_1_series[\"Psychic\"] + type_2_series[\"Psychic\"]))\n",
    "     elif type_input == \"ground\":\n",
    "          return (\"The number of ground type  pokemon is \" + str(type_1_series[\"Ground\"] + type_2_series[\"Ground\"]))\n",
    "     elif type_input == \"dragon\":\n",
    "          return (\"The number of dragon type pokemon is \" + str(type_1_series[\"Dragon\"] + type_2_series[\"Dragon\"]))\n",
    "     elif type_input ==  \"fight\":\n",
    "          return (\"The number of fighting type pokemon is \" + str(type_1_series[\"Fight\"] + type_2_series[\"Fight\"]))\n",
    "     elif type_input == \"steel\":\n",
    "          return (\"The number of steel type pokemon is \" + str(type_1_series[\"Steel\"] + type_2_series[\"Steel\"]))\n",
    "     elif type_input == \"grass\":\n",
    "          return (\"The number of grass type pokemon is \" +str(type_1_series[\"Grass\"] + type_2_series[\"Grass\"]))\n",
    "     elif type_input == \"ghost\":\n",
    "          return (\"The number of ghost type pokemon is \" + str(type_1_series[\"Ghost\"] + type_2_series[\"Ghost\"]))\n",
    "     elif type_input == \"dark\":\n",
    "          return (\"The number of dark type pokemon is \" + str(type_1_series[\"Dark\"] + type_2_series[\"Dark\"]))\n",
    "     elif type_input == \"rock\":\n",
    "          return  (\"The number of rock type pokemon is \" + str(type_1_series[\"Rock\"] + type_2_series[\"Rock\"]))\n",
    "     elif type_input == \"ice\":\n",
    "          return (\"The number of ice type pokemon is \" + str(type_1_series[\"Ice\"] + type_2_series[\"Ice\"]))\n",
    "     elif type_input == \"normal\":\n",
    "          return (\"The number of normal type pokemon is \" + str(type_1_series[\"Normal\"] + type_2_series[\"Normal\"]))\n",
    "     else:\n",
    "          return\"Invalid type. Please try again and enter your desired type in lowercase.\"\n",
    "type_numbering(type_input)"
   ]
  },
  {
   "cell_type": "markdown",
   "metadata": {},
   "source": [
    "# Type Comparison Pie Chart\n",
    "\n",
    "This is a pie chart meant to give you a visual look at the type number spread overall"
   ]
  },
  {
   "cell_type": "code",
   "execution_count": 24,
   "metadata": {},
   "outputs": [],
   "source": [
    "type_df= pandas.DataFrame(\n",
    "    {\"Type\" : [\"Bug\", \"Dark\", \"Dragon\", \"Electric\", \"Fairy\", \"Fight\", \"Fire\", \"Flying\", \"Ghost\", \"Grass\", \"Ground\", \"Ice\", \"Normal\", \"Poison\", \"Psychic\", \"Rock\", \"Steel\", \"Water\"],\n",
    "    \"Quantity\" : [85, 56, 56, 57, 54, 62, 71, 102, 52, 107, 68, 41, 117, 71, 91, 66, 54, 142]})\n"
   ]
  },
  {
   "cell_type": "code",
   "execution_count": 29,
   "metadata": {},
   "outputs": [
    {
     "data": {
      "image/png": "[encoded data removed]",
      "text/plain": [
       "<Figure size 432x288 with 1 Axes>"
      ]
     },
     "metadata": {},
     "output_type": "display_data"
    }
   ],
   "source": [
    "type_pie = type_df.groupby(['Type']).sum().plot(kind='pie', y='Quantity', radius= 3)"
   ]
  },
  {
   "cell_type": "markdown",
   "metadata": {},
   "source": [
    "# Team Randomizer\n",
    "\n",
    "#### Below is the completed Pokémon team randomizer. There will be one request for user input with a number of *1-6*.\n",
    "\n",
    "It will randomly pull *up to* 6 randomly chosen pokemon for you and it'll list the randomly selected Pokémon, their Pokédex number, their types, and a link to the german wiki *(I would love to have changed it to the english version, but alas that takes a **lot** of time)*\n",
    "\n",
    "All for use for your a Pokémon challenge or just for curiosity's sake."
   ]
  },
  {
   "cell_type": "code",
   "execution_count": 14,
   "metadata": {},
   "outputs": [
    {
     "data": {
      "text/html": [
       "<div>\n",
       "<style scoped>\n",
       "    .dataframe tbody tr th:only-of-type {\n",
       "        vertical-align: middle;\n",
       "    }\n",
       "\n",
       "    .dataframe tbody tr th {\n",
       "        vertical-align: top;\n",
       "    }\n",
       "\n",
       "    .dataframe thead th {\n",
       "        text-align: right;\n",
       "    }\n",
       "</style>\n",
       "<table border=\"1\" class=\"dataframe\">\n",
       "  <thead>\n",
       "    <tr style=\"text-align: right;\">\n",
       "      <th></th>\n",
       "      <th>pokedex_nr</th>\n",
       "      <th>en_name</th>\n",
       "      <th>type_1</th>\n",
       "      <th>type_2</th>\n",
       "      <th>link</th>\n",
       "    </tr>\n",
       "  </thead>\n",
       "  <tbody>\n",
       "    <tr>\n",
       "      <th>199</th>\n",
       "      <td>200</td>\n",
       "      <td>Misdreavus</td>\n",
       "      <td>Ghost</td>\n",
       "      <td>NaN</td>\n",
       "      <td>https://www.pokewiki.de/Traunfugil</td>\n",
       "    </tr>\n",
       "    <tr>\n",
       "      <th>346</th>\n",
       "      <td>347</td>\n",
       "      <td>Anorith</td>\n",
       "      <td>Rock</td>\n",
       "      <td>Bug</td>\n",
       "      <td>https://www.pokewiki.de/Anorith</td>\n",
       "    </tr>\n",
       "    <tr>\n",
       "      <th>96</th>\n",
       "      <td>97</td>\n",
       "      <td>Hypno</td>\n",
       "      <td>Psychic</td>\n",
       "      <td>NaN</td>\n",
       "      <td>https://www.pokewiki.de/Hypno</td>\n",
       "    </tr>\n",
       "    <tr>\n",
       "      <th>296</th>\n",
       "      <td>297</td>\n",
       "      <td>Hariyama</td>\n",
       "      <td>Fight</td>\n",
       "      <td>NaN</td>\n",
       "      <td>https://www.pokewiki.de/Hariyama</td>\n",
       "    </tr>\n",
       "  </tbody>\n",
       "</table>\n",
       "</div>"
      ],
      "text/plain": [
       "     pokedex_nr     en_name   type_1 type_2  \\\n",
       "199         200  Misdreavus    Ghost    NaN   \n",
       "346         347     Anorith     Rock    Bug   \n",
       "96           97       Hypno  Psychic    NaN   \n",
       "296         297    Hariyama    Fight    NaN   \n",
       "\n",
       "                                   link  \n",
       "199  https://www.pokewiki.de/Traunfugil  \n",
       "346     https://www.pokewiki.de/Anorith  \n",
       "96        https://www.pokewiki.de/Hypno  \n",
       "296    https://www.pokewiki.de/Hariyama  "
      ]
     },
     "execution_count": 14,
     "metadata": {},
     "output_type": "execute_result"
    }
   ],
   "source": [
    "#pokemon team randomizer\n",
    "size_of_team=input()\n",
    "\n",
    "def team_randomizer(size_of_team):\n",
    "    if size_of_team == \"6\":\n",
    "        return filtered_pokedata.sample(n= 6)\n",
    "    elif size_of_team == \"5\":\n",
    "        return filtered_pokedata.sample(n=5)\n",
    "    elif size_of_team == \"4\":\n",
    "        return filtered_pokedata.sample(n=4)\n",
    "    elif size_of_team == \"3\":\n",
    "        return filtered_pokedata.sample(n=3)\n",
    "    elif size_of_team == \"2\":\n",
    "        return filtered_pokedata.sample(n=2)\n",
    "    elif size_of_team == \"1\":\n",
    "        return filtered_pokedata.sample(n=1)\n",
    "    else:\n",
    "        return \"Invalid number of pokemon, please choose a number from 1-6\"\n",
    "team_randomizer(size_of_team)"
   ]
  }
 ],
 "metadata": {
  "interpreter": {
   "hash": "2db63ff5e3ceeb5e0ca7aa6a662af4f22e44790aaeaa372ae69e77c14b5da436"
  },
  "kernelspec": {
   "display_name": "Python 3.9.10 64-bit (windows store)",
   "language": "python",
   "name": "python3"
  },
  "language_info": {
   "codemirror_mode": {
    "name": "ipython",
    "version": 3
   },
   "file_extension": ".py",
   "mimetype": "text/x-python",
   "name": "python",
   "nbconvert_exporter": "python",
   "pygments_lexer": "ipython3",
   "version": "3.9.12"
  },
  "orig_nbformat": 4
 },
 "nbformat": 4,
 "nbformat_minor": 2
}
